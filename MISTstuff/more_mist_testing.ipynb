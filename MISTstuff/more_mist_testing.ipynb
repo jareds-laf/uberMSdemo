{
 "cells": [
  {
   "cell_type": "code",
   "execution_count": 1,
   "metadata": {},
   "outputs": [],
   "source": [
    "import numpy as np\n",
    "import matplotlib.pyplot as plt #matplob lib\n",
    "%matplotlib inline\n",
    "import os\n",
    "\n",
    "import astropy.io.ascii as at\n",
    "#from scipy.interpolate import griddata, LinearNDInterpolator, interp2d\n",
    "import numpyro\n",
    "import numpyro.distributions as dist\n",
    "import jax\n",
    "from jax import random\n",
    "import jax.numpy as jnp\n",
    "from jax import jit"
   ]
  },
  {
   "cell_type": "code",
   "execution_count": 2,
   "metadata": {},
   "outputs": [
    {
     "data": {
      "text/plain": [
       "(np.float64(2.016473965578847),\n",
       " np.float64(5.219173330672141),\n",
       " np.float64(2852.90475694454),\n",
       " np.float64(6611.359927800581))"
      ]
     },
     "execution_count": 2,
     "metadata": {},
     "output_type": "execute_result"
    }
   ],
   "source": [
    "# read in our MIST isochrone\n",
    "iso = at.read(\"MIST_iso_67e56fd8ac521.iso.cmd\")\n",
    "\n",
    "# filter out AGB/RGB stars so we're left with just main sequence stars\n",
    "ms = (iso['EEP'] < 605) & (iso['log_g'] > 2.0)\n",
    "iso = iso[ms]\n",
    "\n",
    "# sanity print mins and maxs of logg and teff\n",
    "(min(iso['log_g']), max(iso['log_g']),\n",
    "10**min(iso['log_Teff']), 10**max(iso['log_Teff']))"
   ]
  },
  {
   "cell_type": "code",
   "execution_count": 3,
   "metadata": {},
   "outputs": [],
   "source": [
    "# JAXify the important MIST isochrone data\n",
    "isoTeff = jnp.array(10**iso['log_Teff'])\n",
    "isologg = jnp.array(iso['log_g'])\n",
    "isoinitmass = jnp.array(iso['initial_mass'])\n",
    "\n",
    "@jit\n",
    "def find_closest_mass(sample_temp, sample_logg):\n",
    "    # calculate distance to MIST isochrone points in (temp, logg) space\n",
    "    distances = jnp.sqrt((isoTeff - sample_temp)**2\n",
    "                         + (isologg - sample_logg)**2)\n",
    "    \n",
    "    # find indices of 2 closest points\n",
    "    idx_closest = jnp.argsort(distances)[:2]\n",
    "    \n",
    "    # extract the two closest temps and init masses\n",
    "    teff1, teff2 = isoTeff[idx_closest[0]], isoTeff[idx_closest[1]]\n",
    "    # logg1, logg2 = isologg[idx_closest[0]], isologg[idx_closest[1]]\n",
    "    mass1, mass2 = isoinitmass[idx_closest[0]], isoinitmass[idx_closest[1]]\n",
    "    \n",
    "    # interpolate in temp to grab primary mass\n",
    "    interpolated_mass = jnp.interp(x=sample_temp,\n",
    "                                   xp=jnp.array([teff1, teff2]),\n",
    "                                   fp=jnp.array([mass1, mass2])\n",
    "                                   )\n",
    "    \n",
    "    return interpolated_mass\n",
    "\n",
    "# quick example\n",
    "# sample_temp = 3000.0  # Replace with your random value\n",
    "# sample_logg = 3.0     # Replace with your random value\n",
    "# mass = find_closest_mass(sample_temp, sample_logg)\n",
    "# print(mass)"
   ]
  },
  {
   "cell_type": "code",
   "execution_count": 17,
   "metadata": {},
   "outputs": [
    {
     "data": {
      "text/plain": [
       "{'Teff_a': Array(6414.6685, dtype=float32),\n",
       " 'log(g)_a': Array(5.0515666, dtype=float32),\n",
       " 'q': Array(0.94766706, dtype=float32)}"
      ]
     },
     "execution_count": 17,
     "metadata": {},
     "output_type": "execute_result"
    }
   ],
   "source": [
    "##### Create sample using distributions #####\n",
    "\n",
    "# define priors for Teff_a, log(g), and mass_ratio\n",
    "teffa_prior = dist.Uniform(min(isoTeff), max(isoTeff))\n",
    "logga_prior = dist.Uniform(min(isologg), max(isologg))\n",
    "q_prior = dist.Uniform(low=1E-6, high=1.0)\n",
    "\n",
    "# sample the priors\n",
    "sample_i = {}\n",
    "\n",
    "sample_i['Teff_a'] = teffa_prior.sample(random.PRNGKey(0))\n",
    "sample_i['log(g)_a'] = logga_prior.sample(random.PRNGKey(0))\n",
    "sample_i['q'] = q_prior.sample(random.PRNGKey(0))\n",
    "\n",
    "sample_i"
   ]
  },
  {
   "cell_type": "code",
   "execution_count": 5,
   "metadata": {},
   "outputs": [],
   "source": [
    "##### Manually assign priors #####\n",
    "sample_i = {}\n",
    "\n",
    "sample_i['Teff_a'] = 3000.0\n",
    "sample_i['log(g)_a'] = 3.0\n",
    "sample_i['q'] = 0.8"
   ]
  },
  {
   "cell_type": "code",
   "execution_count": 6,
   "metadata": {},
   "outputs": [
    {
     "data": {
      "text/plain": [
       "Array(0.14551444, dtype=float32)"
      ]
     },
     "execution_count": 6,
     "metadata": {},
     "output_type": "execute_result"
    }
   ],
   "source": [
    "##### Grab primary mass #####\n",
    "sample_i['M_a'] = find_closest_mass(sample_i['Teff_a'], sample_i['log(g)_a'])\n",
    "sample_i['M_a']"
   ]
  },
  {
   "cell_type": "code",
   "execution_count": 7,
   "metadata": {},
   "outputs": [
    {
     "name": "stdout",
     "output_type": "stream",
     "text": [
      "4827.7217 4.6057315\n"
     ]
    }
   ],
   "source": [
    "@jit\n",
    "def find_closest_teff_logg(mass_a, q):\n",
    "    # calculate secondary mass\n",
    "    mass_b = mass_a * q\n",
    "\n",
    "    # find closest masses on MIST isochrone to mass_b\n",
    "    distances = jnp.abs(isoinitmass - mass_b)\n",
    "    \n",
    "    # find indices of 2 closest points\n",
    "    idx_closest = jnp.argsort(distances)[:2]\n",
    "    \n",
    "    # extract the two closest temps and log(g)s\n",
    "    teff1, teff2 = isoTeff[idx_closest[0]], isoTeff[idx_closest[1]]\n",
    "    logg1, logg2 = isologg[idx_closest[0]], isologg[idx_closest[1]]\n",
    "    mass1, mass2 = isoinitmass[idx_closest[0]], isoinitmass[idx_closest[1]]\n",
    "    \n",
    "    # interpolate in temp to grab primary mass\n",
    "    interpolated_teff = jnp.interp(x=mass_a,\n",
    "                                   xp=jnp.array([mass1, mass2]),\n",
    "                                   fp=jnp.array([teff1, teff2])\n",
    "                                   )\n",
    "    \n",
    "    interpolated_logg = jnp.interp(x=mass_a,\n",
    "                                   xp=jnp.array([mass1, mass2]),\n",
    "                                   fp=jnp.array([logg1, logg2])\n",
    "                                   )\n",
    "    \n",
    "    return mass_b, interpolated_teff, interpolated_logg\n",
    "\n",
    "# quick example\n",
    "mass_a = 1.0\n",
    "q = 0.8\n",
    "mass_b, teff, logg = find_closest_teff_logg(mass_a, q)\n",
    "print(teff, logg)"
   ]
  },
  {
   "cell_type": "code",
   "execution_count": null,
   "metadata": {},
   "outputs": [
    {
     "data": {
      "text/plain": [
       "(Array(1.2353858, dtype=float32, weak_type=True),\n",
       " Array(6406.6025, dtype=float32),\n",
       " Array(4.228769, dtype=float32))"
      ]
     },
     "execution_count": 8,
     "metadata": {},
     "output_type": "execute_result"
    }
   ],
   "source": [
    "##### Grab secondary mass, Teff, log(g) #####\n",
    "sample_i['M_b'], sample_i['Teff_b'], sample_i['log(g)_b'] = find_closest_teff_logg(mass_a, sample_i['q'])\n",
    "sample_i['M_b'], sample_i['Teff_b'], sample_i['log(g)_b']"
   ]
  },
  {
   "cell_type": "code",
   "execution_count": 9,
   "metadata": {},
   "outputs": [
    {
     "data": {
      "text/plain": [
       "{'Teff_a': 3000.0,\n",
       " 'log(g)_a': 3.0,\n",
       " 'q': 0.8,\n",
       " 'M_a': Array(0.14551444, dtype=float32),\n",
       " 'M_b': Array(1.2353858, dtype=float32, weak_type=True),\n",
       " 'Teff_b': Array(6406.6025, dtype=float32),\n",
       " 'log(g)_b': Array(4.228769, dtype=float32)}"
      ]
     },
     "execution_count": 9,
     "metadata": {},
     "output_type": "execute_result"
    }
   ],
   "source": [
    "sample_i"
   ]
  },
  {
   "cell_type": "code",
   "execution_count": 29,
   "metadata": {},
   "outputs": [],
   "source": [
    "sample_i['Teff_a'] = 4500.0\n",
    "sample_i['log(g)_a'] = 2.5\n",
    "sample_i['q'] = 0.65\n",
    "sample_i['M_a'] = find_closest_mass(sample_i['Teff_a'], sample_i['log(g)_a'])\n",
    "\n",
    "sample_i['M_b'], sample_i['Teff_b'], sample_i['log(g)_b'] = find_closest_teff_logg(sample_i['M_a'], sample_i['q'])"
   ]
  },
  {
   "cell_type": "code",
   "execution_count": 50,
   "metadata": {},
   "outputs": [],
   "source": [
    "# define priors for Teff_a, log(g), and mass_ratio\n",
    "teffa_prior = dist.Uniform(min(isoTeff), max(isoTeff))\n",
    "logga_prior = dist.Uniform(min(isologg), max(isologg))\n",
    "q_prior = dist.Uniform(low=1E-6, high=1.0)\n",
    "\n",
    "# sample the priors\n",
    "sample_i = {}\n",
    "\n",
    "sample_i['Teff_a'] = teffa_prior.sample(random.PRNGKey(0))\n",
    "sample_i['log(g)_a'] = logga_prior.sample(random.PRNGKey(0))\n",
    "sample_i['q'] = q_prior.sample(random.PRNGKey(0))\n",
    "sample_i['M_a'] = find_closest_mass(sample_i['Teff_a'], sample_i['log(g)_a'])\n",
    "\n",
    "(sample_i['M_b'], sample_i['Teff_b'], sample_i['log(g)_b']) = find_closest_teff_logg(sample_i['M_a'], sample_i['q'])"
   ]
  },
  {
   "cell_type": "code",
   "execution_count": 28,
   "metadata": {},
   "outputs": [
    {
     "name": "stdout",
     "output_type": "stream",
     "text": [
      "{'Teff_a': Array(6414.6685, dtype=float32), 'log(g)_a': Array(5.0515666, dtype=float32), 'q': Array(0.94766706, dtype=float32), 'M_a': Array(1.2630494, dtype=float32), 'M_b': Array(1.1969503, dtype=float32), 'Teff_b': Array(6277.953, dtype=float32), 'log(g)_b': Array(4.3042717, dtype=float32)}\n",
      "1.2630494\n",
      "\n",
      "1.1969503\n"
     ]
    },
    {
     "data": {
      "text/plain": [
       "<matplotlib.colorbar.Colorbar at 0x2657e4079d0>"
      ]
     },
     "execution_count": 28,
     "metadata": {},
     "output_type": "execute_result"
    },
    {
     "data": {
      "image/png": "[encoded data removed]",
      "text/plain": [
       "<Figure size 640x480 with 2 Axes>"
      ]
     },
     "metadata": {},
     "output_type": "display_data"
    }
   ],
   "source": [
    "##### Plotting #####\n",
    "print(sample_i)\n",
    "print(sample_i['M_a']) \n",
    "print()\n",
    "print(sample_i['M_b'])\n",
    "\n",
    "fig, ax = plt.subplots()\n",
    "\n",
    "ax.scatter(isologg, isoTeff, c=isoinitmass, s=1, alpha=0.5)\n",
    "ax.scatter(sample_i['log(g)_a'], sample_i['Teff_a'], c=sample_i['M_a'], s=25, label='Primary')\n",
    "ax.scatter(sample_i['log(g)_b'], sample_i['Teff_b'], c=sample_i['M_b'], s=25, label='Secondary')\n",
    "\n",
    "ax.set_xlabel(r'$\\log(g)$')\n",
    "ax.set_ylabel(r'$T_{eff} \\, (K)$')\n",
    "ax.set_title(\"2D Distance Method\")\n",
    "\n",
    "fig.colorbar(ax.collections[0], label=r'$M \\, ({M_\\odot})$')"
   ]
  },
  {
   "cell_type": "code",
   "execution_count": 47,
   "metadata": {},
   "outputs": [
    {
     "data": {
      "text/plain": [
       "{'iso': <Table length=325>\n",
       "       log_g            initial_mass           Teff       \n",
       "      float64             float64            float64      \n",
       " ------------------ ------------------- ------------------\n",
       "  5.219173330672141 0.10331965605076723   2852.90475694454\n",
       "  5.210097400095176 0.10722995675658707  2871.426772679346\n",
       "  5.125557731436499 0.14551443880232373  3043.250270866061\n",
       "  5.113599158725646 0.15196215136678998 3065.8589579837094\n",
       "  5.101390956760364 0.15863977245194313  3088.979471101631\n",
       "  5.089240988406002  0.1668724021671966  3110.692582312181\n",
       "  5.073608290086558 0.17982274249296165 3135.6645730593646\n",
       "  5.058022948354067 0.19279845940840507  3160.754584925618\n",
       "  5.042676309900792 0.20552708463359626  3185.587810805356\n",
       "                ...                 ...                ...\n",
       " 2.2549880907637156  1.5620623761143935  4421.025583634862\n",
       "  2.228578765081699  1.5623247724036857  4406.202257441944\n",
       "  2.202190874455601   1.562577687538609  4391.516989111142\n",
       " 2.1757419086978294    1.56282254028165  4376.668613354935\n",
       "  2.149279104326851  1.5630576507575276   4361.82160906551\n",
       "  2.122793507725964  1.5632835902127222  4346.937905905297\n",
       "  2.096274470432324   1.563502514557388  4331.994234937124\n",
       " 2.0697018235981584  1.5637121939075105  4316.916690733345\n",
       "  2.043077967553319  1.5639145182740262  4301.673997596868\n",
       "  2.016473965578847  1.5641094289292383  4286.596201856666}"
      ]
     },
     "execution_count": 47,
     "metadata": {},
     "output_type": "execute_result"
    }
   ],
   "source": [
    "out = {}\n",
    "\n",
    "out['iso'] = iso['log_Teff', 'log_g', 'initial_mass']\n",
    "out['iso']['Teff'] = 10**out['iso']['log_Teff']\n",
    "del(out['iso']['log_Teff'])\n",
    "\n",
    "out"
   ]
  },
  {
   "cell_type": "code",
   "execution_count": null,
   "metadata": {},
   "outputs": [],
   "source": []
  }
 ],
 "metadata": {
  "kernelspec": {
   "display_name": ".thesis",
   "language": "python",
   "name": "python3"
  },
  "language_info": {
   "codemirror_mode": {
    "name": "ipython",
    "version": 3
   },
   "file_extension": ".py",
   "mimetype": "text/x-python",
   "name": "python",
   "nbconvert_exporter": "python",
   "pygments_lexer": "ipython3",
   "version": "3.13.0"
  }
 },
 "nbformat": 4,
 "nbformat_minor": 2
}

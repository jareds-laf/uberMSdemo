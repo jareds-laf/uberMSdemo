{
 "cells": [
  {
   "cell_type": "code",
   "execution_count": 75,
   "metadata": {},
   "outputs": [],
   "source": [
    "import numpy as np\n",
    "import matplotlib.pyplot as plt #matplob lib\n",
    "%matplotlib inline\n",
    "import os\n",
    "\n",
    "import astropy.io.ascii as at\n",
    "from scipy.interpolate import griddata, LinearNDInterpolator, interp2d\n",
    "import numpyro\n",
    "import numpyro.distributions as dist\n",
    "from jax import random"
   ]
  },
  {
   "cell_type": "code",
   "execution_count": 76,
   "metadata": {},
   "outputs": [
    {
     "data": {
      "text/plain": [
       "(np.float64(2.016473965578847),\n",
       " np.float64(5.219173330672141),\n",
       " np.float64(2852.90475694454),\n",
       " np.float64(6611.359927800581))"
      ]
     },
     "execution_count": 76,
     "metadata": {},
     "output_type": "execute_result"
    }
   ],
   "source": [
    "# read in our MIST isochrone\n",
    "data = at.read(\"MIST_iso_67e56fd8ac521.iso.cmd\")\n",
    "\n",
    "# filter out AGB/RGB stars so we're left with just main sequence stars\n",
    "ms = (data['EEP'] < 605) & (data['log_g'] > 2.0)\n",
    "data = data[ms]\n",
    "\n",
    "# sanity print mins and maxs of logg and teff\n",
    "(min(data['log_g']), max(data['log_g']),\n",
    "10**min(data['log_Teff']), 10**max(data['log_Teff']))"
   ]
  },
  {
   "cell_type": "code",
   "execution_count": null,
   "metadata": {},
   "outputs": [
    {
     "data": {
      "text/html": [
       "<div><i>Table length=325</i>\n",
       "<table id=\"table2052350249552\" class=\"table-striped table-bordered table-condensed\">\n",
       "<thead><tr><th>log_g</th><th>initial_mass</th><th>Teff</th></tr></thead>\n",
       "<thead><tr><th>float64</th><th>float64</th><th>float64</th></tr></thead>\n",
       "<tr><td>5.219173330672141</td><td>0.10331965605076723</td><td>2852.90475694454</td></tr>\n",
       "<tr><td>5.210097400095176</td><td>0.10722995675658707</td><td>2871.426772679346</td></tr>\n",
       "<tr><td>5.125557731436499</td><td>0.14551443880232373</td><td>3043.250270866061</td></tr>\n",
       "<tr><td>5.113599158725646</td><td>0.15196215136678998</td><td>3065.8589579837094</td></tr>\n",
       "<tr><td>5.101390956760364</td><td>0.15863977245194313</td><td>3088.979471101631</td></tr>\n",
       "<tr><td>5.089240988406002</td><td>0.1668724021671966</td><td>3110.692582312181</td></tr>\n",
       "<tr><td>5.073608290086558</td><td>0.17982274249296165</td><td>3135.6645730593646</td></tr>\n",
       "<tr><td>5.058022948354067</td><td>0.19279845940840507</td><td>3160.754584925618</td></tr>\n",
       "<tr><td>5.042676309900792</td><td>0.20552708463359626</td><td>3185.587810805356</td></tr>\n",
       "<tr><td>...</td><td>...</td><td>...</td></tr>\n",
       "<tr><td>2.2549880907637156</td><td>1.5620623761143935</td><td>4421.025583634862</td></tr>\n",
       "<tr><td>2.228578765081699</td><td>1.5623247724036857</td><td>4406.202257441944</td></tr>\n",
       "<tr><td>2.202190874455601</td><td>1.562577687538609</td><td>4391.516989111142</td></tr>\n",
       "<tr><td>2.1757419086978294</td><td>1.56282254028165</td><td>4376.668613354935</td></tr>\n",
       "<tr><td>2.149279104326851</td><td>1.5630576507575276</td><td>4361.82160906551</td></tr>\n",
       "<tr><td>2.122793507725964</td><td>1.5632835902127222</td><td>4346.937905905297</td></tr>\n",
       "<tr><td>2.096274470432324</td><td>1.563502514557388</td><td>4331.994234937124</td></tr>\n",
       "<tr><td>2.0697018235981584</td><td>1.5637121939075105</td><td>4316.916690733345</td></tr>\n",
       "<tr><td>2.043077967553319</td><td>1.5639145182740262</td><td>4301.673997596868</td></tr>\n",
       "<tr><td>2.016473965578847</td><td>1.5641094289292383</td><td>4286.596201856666</td></tr>\n",
       "</table></div>"
      ],
      "text/plain": [
       "<Table length=325>\n",
       "      log_g            initial_mass           Teff       \n",
       "     float64             float64            float64      \n",
       "------------------ ------------------- ------------------\n",
       " 5.219173330672141 0.10331965605076723   2852.90475694454\n",
       " 5.210097400095176 0.10722995675658707  2871.426772679346\n",
       " 5.125557731436499 0.14551443880232373  3043.250270866061\n",
       " 5.113599158725646 0.15196215136678998 3065.8589579837094\n",
       " 5.101390956760364 0.15863977245194313  3088.979471101631\n",
       " 5.089240988406002  0.1668724021671966  3110.692582312181\n",
       " 5.073608290086558 0.17982274249296165 3135.6645730593646\n",
       " 5.058022948354067 0.19279845940840507  3160.754584925618\n",
       " 5.042676309900792 0.20552708463359626  3185.587810805356\n",
       "               ...                 ...                ...\n",
       "2.2549880907637156  1.5620623761143935  4421.025583634862\n",
       " 2.228578765081699  1.5623247724036857  4406.202257441944\n",
       " 2.202190874455601   1.562577687538609  4391.516989111142\n",
       "2.1757419086978294    1.56282254028165  4376.668613354935\n",
       " 2.149279104326851  1.5630576507575276   4361.82160906551\n",
       " 2.122793507725964  1.5632835902127222  4346.937905905297\n",
       " 2.096274470432324   1.563502514557388  4331.994234937124\n",
       "2.0697018235981584  1.5637121939075105  4316.916690733345\n",
       " 2.043077967553319  1.5639145182740262  4301.673997596868\n",
       " 2.016473965578847  1.5641094289292383  4286.596201856666"
      ]
     },
     "execution_count": 207,
     "metadata": {},
     "output_type": "execute_result"
    }
   ],
   "source": [
    "out = {}\n",
    "\n",
    "out['iso'] = data['log_Teff', 'log_g', 'initial_mass']\n",
    "\n",
    "# out['iso'] = 10**data['log_Teff'], data['log_g'], data['initial_mass']\n",
    "\n",
    "out['iso']['Teff'] = 10**out['iso']['log_Teff']\n",
    "del(out['iso']['log_Teff'])\n",
    "\n",
    "out['iso']"
   ]
  },
  {
   "cell_type": "code",
   "execution_count": 299,
   "metadata": {},
   "outputs": [
    {
     "data": {
      "text/plain": [
       "(Array(5261.289, dtype=float32),\n",
       " Array(4.068735, dtype=float32),\n",
       " Array(0.6407914, dtype=float32))"
      ]
     },
     "execution_count": 299,
     "metadata": {},
     "output_type": "execute_result"
    }
   ],
   "source": [
    "# define and sample priors for teff and log(g)\n",
    "# this is purely for this notebook and should not be implemented into uberMS\n",
    "teff_prior = dist.Uniform(low=min(10**data['log_Teff']), high=max(10**data['log_Teff']))\n",
    "sample_Teff_a = teff_prior.sample(random.PRNGKey(2))\n",
    "\n",
    "\n",
    "logga_prior = dist.Uniform(low=min(data['log_g']), high=max(data['log_g']))\n",
    "sample_logg_a = logga_prior.sample(random.PRNGKey(2))\n",
    "\n",
    "q_prior = dist.Uniform(low=1E-6, high=1.0)\n",
    "sample_q = q_prior.sample(random.PRNGKey(2))\n",
    "\n",
    "(sample_Teff_a, sample_logg_a, sample_q)"
   ]
  },
  {
   "cell_type": "code",
   "execution_count": 300,
   "metadata": {},
   "outputs": [
    {
     "name": "stdout",
     "output_type": "stream",
     "text": [
      "5261.289 4.068735 0.6407914\n",
      "4.5562167255013835\n"
     ]
    }
   ],
   "source": [
    "# print the sample we took\n",
    "print(sample_Teff_a, sample_logg_a, sample_q)\n",
    "\n",
    "# define a tolerance to find the closest teff and logg\n",
    "teff_tol = 100\n",
    "logg_tol = 1\n",
    "\n",
    "\n",
    "# define a condition to find the indices of the closest teff and logg\n",
    "cond_teff = np.abs(10**data['log_Teff'] - sample_Teff_a) < teff_tol\n",
    "cond_logg = np.abs(data['log_g'] - sample_logg_a) < logg_tol\n",
    "\n",
    "\n",
    "idx_closest = np.where(cond_teff & cond_logg)\n",
    "closest_logg = data['log_g'][idx_closest]\n",
    "\n",
    "if ~(np.all(np.diff(idx_closest) == 1)):\n",
    "    median_closest = np.median(closest_logg)\n",
    "    print(median_closest)\n",
    "    # print(data['log_g'][idx_closest][data['log_g'] < median_closest])\n",
    "else:\n",
    "    print(\"cts\")\n",
    "\n",
    "# idx_teff = np.where(10**data['log_Teff'] == 10**data['log_Teff'][cond_teff & cond_logg])\n",
    "# idx_teff\n",
    "# if ~(np.all(np.diff(idx_teff) == 1)):\n",
    "#     print(\"not cts\")\n",
    "# else:\n",
    "#     print(\"cts\")"
   ]
  },
  {
   "cell_type": "code",
   "execution_count": 333,
   "metadata": {},
   "outputs": [
    {
     "name": "stdout",
     "output_type": "stream",
     "text": [
      "5261.289 4.068735 0.6407914\n",
      "\n",
      " mass_a: 1.5193561175625714\n",
      "\n",
      " mass_b: 0.9735903739929199\n",
      "0.0014048815\n",
      "Teff_b:      log_Teff    \n",
      "-----------------\n",
      "5633.455631218486\n",
      "logg_b:      log_g      \n",
      "----------------\n",
      "4.50384748090625\n"
     ]
    },
    {
     "data": {
      "image/png": "[encoded data removed]",
      "text/plain": [
       "<Figure size 640x480 with 2 Axes>"
      ]
     },
     "metadata": {},
     "output_type": "display_data"
    }
   ],
   "source": [
    "# define and sample priors for teff and log(g)\n",
    "# this is purely for this notebook and should not be implemented into uberMS\n",
    "teff_prior = dist.Uniform(low=min(10**data['log_Teff']), high=max(10**data['log_Teff']))\n",
    "sample_Teff_a = teff_prior.sample(random.PRNGKey(2))\n",
    "\n",
    "\n",
    "logga_prior = dist.Uniform(low=min(data['log_g']), high=max(data['log_g']))\n",
    "sample_logg_a = logga_prior.sample(random.PRNGKey(2))\n",
    "\n",
    "q_prior = dist.Uniform(low=1E-6, high=1.0)\n",
    "sample_q = q_prior.sample(random.PRNGKey(2))\n",
    "\n",
    "(sample_Teff_a, sample_logg_a, sample_q)\n",
    "\n",
    "\n",
    "# set samples manually\n",
    "# sample_Teff_a = 6500\n",
    "# sample_logg_a = 3.8\n",
    "\n",
    "# print the sample we took\n",
    "print(sample_Teff_a, sample_logg_a, sample_q)\n",
    "\n",
    "# define a tolerance to find the closest teff and logg\n",
    "teff_tol = 100\n",
    "logg_tol = 1\n",
    "\n",
    "\n",
    "# define a condition to find the indices of the closest teff and logg\n",
    "cond_teff = np.abs(10**data['log_Teff'] - sample_Teff_a) < teff_tol\n",
    "cond_logg = np.abs(data['log_g'] - sample_logg_a) < logg_tol\n",
    "\n",
    "idx_closest = np.where(cond_teff & cond_logg)\n",
    "closest_logg = data['log_g'][idx_closest]\n",
    "closest_teff = 10**data['log_Teff'][idx_closest]\n",
    "\n",
    "if ~(np.all(np.diff(idx_closest) == 1)):\n",
    "    median_logg = np.median(closest_logg)\n",
    "    # print(f\"median closest logg: {median_logg}\")\n",
    "    idx_cts = np.where(data['log_g'][idx_closest] < median_logg)\n",
    "    logg_cts = data['log_g'][idx_closest][idx_cts]\n",
    "    teff_cts = 10**data['log_Teff'][idx_closest][idx_cts]\n",
    "\n",
    "\n",
    "    # now do interpolation\n",
    "    mass_a = np.interp(sample_Teff_a, teff_cts, data['initial_mass'][idx_closest][idx_cts])\n",
    "    # print(f'closest masses: {data[\"initial_mass\"][idx_closest][idx_cts]}')\n",
    "    print(f\"\\n mass_a: {mass_a}\")\n",
    "\n",
    "    # find mass_b using mass_a and sample_q\n",
    "    mass_b = mass_a * sample_q\n",
    "    print(f\"\\n mass_b: {mass_b}\")\n",
    "\n",
    "    # get logg_b and teff_b\n",
    "    # find closest mass to mass_b\n",
    "    closest_mass_b = min(np.abs(data['initial_mass'] - mass_b))\n",
    "    print(closest_mass_b)\n",
    "    idx_closest_b = np.where(np.abs(data['initial_mass'] - mass_b) == closest_mass_b)\n",
    "    print(f\"Teff_b: {10**data['log_Teff'][idx_closest_b]}\")\n",
    "    print(f\"logg_b: {data['log_g'][idx_closest_b]}\")\n",
    "\n",
    "\n",
    "    # plot\n",
    "    fig, ax = plt.subplots()\n",
    "\n",
    "    ax.scatter(data['log_g'], 10**data['log_Teff'], c=data['initial_mass'], label='isochrone', s=1)\n",
    "    ax.scatter(logg_cts, teff_cts, s=5)\n",
    "\n",
    "    # ax.set_xlim(3.7, sample_logg_a + 0.5)\n",
    "\n",
    "    ax.scatter(sample_logg_a, sample_Teff_a, c=mass_a)\n",
    "\n",
    "    ax.set_xlabel(r'$\\log{(g)}_a$')\n",
    "    ax.set_ylabel(r'$T_{eff,a}$')\n",
    "\n",
    "    fig.colorbar(ax.collections[0], label=r'$M_a \\, ({M_\\odot})$')\n",
    "\n",
    "    \n",
    "else:\n",
    "    # 1d regular interpolation to get primary mass\n",
    "    mass_a = np.interp(sample_Teff_a, closest_teff, data['initial_mass'][idx_closest])\n",
    "    print(f\"\\n mass_a: {mass_a}\")\n",
    "\n",
    "    # find mass_b using mass_a and sample_q\n",
    "    mass_b = mass_a * sample_q\n",
    "    print(f\"\\n mass_b: {mass_b}\")\n",
    "\n",
    "    # get logg_b and teff_b\n",
    "\n",
    "\n",
    "\n",
    "\n",
    "# interp = np.interp(sample_teff, 10**data['log_Teff'], data['initial_mass'])\n",
    "# print(f\"\\n{data['log_g'][idx_closest]}\\n{10**data['log_Teff'][idx_closest]}\")"
   ]
  },
  {
   "cell_type": "code",
   "execution_count": 314,
   "metadata": {},
   "outputs": [
    {
     "name": "stdout",
     "output_type": "stream",
     "text": [
      "no\n"
     ]
    }
   ],
   "source": [
    "if np.any(10**data['log_Teff'] == 6500):\n",
    "    print(\"yes\")\n",
    "else:\n",
    "    print(\"no\")"
   ]
  },
  {
   "cell_type": "code",
   "execution_count": null,
   "metadata": {},
   "outputs": [
    {
     "name": "stdout",
     "output_type": "stream",
     "text": [
      "Closest logg:\n",
      "      log_g       \n",
      "------------------\n",
      " 4.573512675692805\n",
      " 4.568963101580793\n",
      " 4.564374812131633\n",
      " 4.560251123595951\n",
      "4.5562167255013835\n",
      "  3.63827600152586\n",
      " 3.634837556165945\n",
      "3.6284685443547584\n",
      "3.6178449186100434\n",
      "\n",
      "logg median: 4.5562167255013835\n",
      "\n",
      "(array([5, 6, 7, 8]),)\n",
      "Closest logg < median:\n",
      "      log_g       \n",
      "------------------\n",
      "  3.63827600152586\n",
      " 3.634837556165945\n",
      "3.6284685443547584\n",
      "3.6178449186100434\n"
     ]
    }
   ],
   "source": [
    "print('Closest logg:')\n",
    "print(data['log_g'][idx_closest])\n",
    "\n",
    "median_test = np.median(data['log_g'][idx_closest])\n",
    "print(f'\\nlogg median: {median_test}\\n')\n",
    "\n",
    "print(np.where(data['log_g'][idx_closest] < median_test))\n",
    "print('Closest logg < median:')\n",
    "print(data['log_g'][idx_closest][np.where(data['log_g'][idx_closest] < median_test)])"
   ]
  },
  {
   "cell_type": "code",
   "execution_count": null,
   "metadata": {},
   "outputs": [],
   "source": [
    "# cond_logg = np.abs(data['log_g'] - sample_logg_a) < logg_tol\n",
    "\n",
    "# pass the conditions to the isochrone\n",
    "closest_teff = 10**data['log_Teff'][cond_teff & cond_logg]\n",
    "closest_logg = data['log_g'][cond_teff & cond_logg]\n",
    "print(closest_teff, closest_logg)\n",
    "\n",
    "\n",
    "fig, ax = plt.subplots()\n",
    "ax.scatter(data['log_g'], 10**data['log_Teff'], c=data['initial_mass'], s=1)\n",
    "ax.scatter(closest_logg, closest_teff, c='r', s=25, label='Closest')\n",
    "ax.scatter(sample_logg_a, sample_Teff_a, c='k', s=25, label='Sample')\n",
    "\n",
    "ax.legend()\n",
    "plt.show()\n",
    "# closest_logg = data['log_g'][np.abs(data['log_g'] - sample_logg_a) < logg_tol]\n",
    "\n",
    "# (closest_teff, closest_logg)\n",
    "\n",
    "\n",
    "# np.abs(10**data['log_Teff'] - sample_Teff_a < teff_tol)"
   ]
  },
  {
   "cell_type": "code",
   "execution_count": 144,
   "metadata": {},
   "outputs": [
    {
     "data": {
      "text/plain": [
       "array([0, 4, 2, 3])"
      ]
     },
     "execution_count": 144,
     "metadata": {},
     "output_type": "execute_result"
    }
   ],
   "source": [
    "a = np.array([0,4,2,6,3])\n",
    "np.where(a>2), a[np.where(a>2)]\n",
    "a = np.delete(a, 3)\n",
    "a\n",
    "# smallest = np.pop(a[a>2]"
   ]
  },
  {
   "cell_type": "code",
   "execution_count": 165,
   "metadata": {},
   "outputs": [
    {
     "data": {
      "text/plain": [
       "<matplotlib.colorbar.Colorbar at 0x1ddd7fcdf90>"
      ]
     },
     "execution_count": 165,
     "metadata": {},
     "output_type": "execute_result"
    },
    {
     "data": {
      "image/png": "[encoded data removed]",
      "text/plain": [
       "<Figure size 640x480 with 2 Axes>"
      ]
     },
     "metadata": {},
     "output_type": "display_data"
    }
   ],
   "source": [
    "teff_tol = 100\n",
    "logg_tol = 0.01\n",
    "\n",
    "# np.abs(10**data['log_Teff'] - sample_Teff_a < teff_tol)\n",
    "\n",
    "closest_teff = 10**data['log_Teff'][np.abs(10**data['log_Teff'] - sample_Teff_a) < teff_tol]\n",
    "closest_logg = data['log_g'][np.abs(data['log_g'] - sample_logg_a) < logg_tol]\n",
    "\n",
    "(closest_teff, closest_logg)\n",
    "\n",
    "\n",
    "fig, ax = plt.subplots()\n",
    "ax.scatter(data['log_g'], 10**data['log_Teff'], c=data['initial_mass'], s=1)\n",
    "ax.scatter(sample_logg_a, sample_Teff_a, c='red', s=50, label='Sample')\n",
    "ax.axhline(sorted(closest_teff)[0], c='black', ls='--')\n",
    "ax.axhline(sorted(closest_teff)[1], c='black', ls='--')\n",
    "\n",
    "ax.axvline(sorted(closest_logg)[0], c='black', ls='--')\n",
    "ax.axvline(sorted(closest_logg)[1], c='black', ls='--')\n",
    "#ax.scatter(min(closest_logg), min(closest_teff), c='blue', s=50, label='Closest')\n",
    "\n",
    "ax.legend()\n",
    "fig.colorbar(ax.collections[0], label='Initial Mass (Msol)')\n",
    "# ax.set_xlim(4.0, 4.5)\n",
    "\n",
    "# plt.plot(closest_logg, closest_teff[:len(closest_logg)])\n",
    "# good = abs(10**data['log_Teff'] - sample_Teff_a) < teff_tol\n",
    "# 10**data['log_Teff'][good]"
   ]
  },
  {
   "cell_type": "code",
   "execution_count": 74,
   "metadata": {},
   "outputs": [
    {
     "data": {
      "text/plain": [
       "(Array(8.731934, dtype=float32), Array(0.00210285, dtype=float32))"
      ]
     },
     "execution_count": 74,
     "metadata": {},
     "output_type": "execute_result"
    }
   ],
   "source": [
    "# find closest two points in MIST isochrone to our sampled Teff and logg\n",
    "teff_tol = 0.01\n",
    "logg_tol = 0.01\n",
    "closest_teff = min(abs(10**data['log_Teff'] - sample_Teff_a))\n",
    "closest_logg = min(abs(data['log_g'] - sample_logg_a))\n",
    "(closest_teff, closest_logg)\n",
    "\n",
    "\n",
    "# 10**data['log_Teff'][abs(10**data['log_Teff'] - sample_Teff_a) < teff_tol]\n",
    "\n",
    "# data['log_Teff'][(abs(10**data['log_Teff'] - sample_Teff_a) < teff_tol)]"
   ]
  },
  {
   "cell_type": "code",
   "execution_count": 92,
   "metadata": {},
   "outputs": [
    {
     "data": {
      "text/html": [
       "&lt;Column name=&apos;log_Teff&apos; dtype=&apos;float64&apos; length=325&gt;\n",
       "<table>\n",
       "<tr><td>2852.90475694454</td></tr>\n",
       "<tr><td>2871.426772679346</td></tr>\n",
       "<tr><td>3043.250270866061</td></tr>\n",
       "<tr><td>3065.8589579837094</td></tr>\n",
       "<tr><td>3088.979471101631</td></tr>\n",
       "<tr><td>3110.692582312181</td></tr>\n",
       "<tr><td>3135.6645730593646</td></tr>\n",
       "<tr><td>3160.754584925618</td></tr>\n",
       "<tr><td>3185.587810805356</td></tr>\n",
       "<tr><td>3196.95550543449</td></tr>\n",
       "<tr><td>3207.466642744423</td></tr>\n",
       "<tr><td>3218.581141552958</td></tr>\n",
       "<tr><td>...</td></tr>\n",
       "<tr><td>4435.793027258753</td></tr>\n",
       "<tr><td>4421.025583634862</td></tr>\n",
       "<tr><td>4406.202257441944</td></tr>\n",
       "<tr><td>4391.516989111142</td></tr>\n",
       "<tr><td>4376.668613354935</td></tr>\n",
       "<tr><td>4361.82160906551</td></tr>\n",
       "<tr><td>4346.937905905297</td></tr>\n",
       "<tr><td>4331.994234937124</td></tr>\n",
       "<tr><td>4316.916690733345</td></tr>\n",
       "<tr><td>4301.673997596868</td></tr>\n",
       "<tr><td>4286.596201856666</td></tr>\n",
       "</table>"
      ],
      "text/plain": [
       "<Column name='log_Teff' dtype='float64' length=325>\n",
       "  2852.90475694454\n",
       " 2871.426772679346\n",
       " 3043.250270866061\n",
       "3065.8589579837094\n",
       " 3088.979471101631\n",
       " 3110.692582312181\n",
       "3135.6645730593646\n",
       " 3160.754584925618\n",
       " 3185.587810805356\n",
       "  3196.95550543449\n",
       " 3207.466642744423\n",
       " 3218.581141552958\n",
       "               ...\n",
       " 4435.793027258753\n",
       " 4421.025583634862\n",
       " 4406.202257441944\n",
       " 4391.516989111142\n",
       " 4376.668613354935\n",
       "  4361.82160906551\n",
       " 4346.937905905297\n",
       " 4331.994234937124\n",
       " 4316.916690733345\n",
       " 4301.673997596868\n",
       " 4286.596201856666"
      ]
     },
     "execution_count": 92,
     "metadata": {},
     "output_type": "execute_result"
    }
   ],
   "source": [
    "10**data['log_Teff']"
   ]
  },
  {
   "cell_type": "code",
   "execution_count": 90,
   "metadata": {},
   "outputs": [
    {
     "data": {
      "text/plain": [
       "array([ True,  True,  True,  True,  True,  True,  True,  True,  True,\n",
       "        True,  True,  True,  True,  True,  True,  True,  True,  True,\n",
       "        True,  True,  True,  True,  True,  True,  True,  True,  True,\n",
       "        True,  True,  True,  True,  True,  True,  True,  True,  True,\n",
       "        True,  True,  True,  True,  True,  True,  True,  True,  True,\n",
       "        True,  True,  True,  True,  True,  True,  True,  True,  True,\n",
       "        True,  True,  True,  True,  True,  True,  True,  True,  True,\n",
       "        True, False, False, False, False, False, False, False, False,\n",
       "        True, False, False, False, False, False, False, False, False,\n",
       "       False, False, False, False, False, False, False, False, False,\n",
       "       False, False, False, False, False, False, False, False, False,\n",
       "       False, False, False, False, False, False, False, False, False,\n",
       "       False, False, False, False, False,  True, False, False, False,\n",
       "       False, False, False, False, False, False, False, False, False,\n",
       "       False, False, False, False, False, False, False, False, False,\n",
       "       False, False, False, False, False, False, False, False, False,\n",
       "       False, False, False, False, False, False, False, False, False,\n",
       "       False, False, False, False, False, False, False, False, False,\n",
       "       False, False, False, False, False, False, False, False, False,\n",
       "       False, False, False, False, False, False, False, False, False,\n",
       "       False, False, False, False, False, False, False, False, False,\n",
       "       False, False, False, False, False, False, False, False, False,\n",
       "       False, False, False, False, False, False, False, False, False,\n",
       "       False, False, False, False, False, False, False, False, False,\n",
       "       False, False, False, False, False, False, False, False, False,\n",
       "       False, False, False, False, False, False, False, False, False,\n",
       "       False, False, False, False, False, False, False, False, False,\n",
       "       False, False, False, False, False, False, False, False, False,\n",
       "       False, False, False, False, False, False, False, False, False,\n",
       "       False, False, False, False, False, False, False, False, False,\n",
       "       False, False, False, False, False, False, False, False, False,\n",
       "       False, False, False, False, False, False, False, False, False,\n",
       "       False, False, False, False, False, False, False, False, False,\n",
       "       False, False, False, False, False, False, False, False, False,\n",
       "       False, False, False, False, False, False, False, False, False,\n",
       "       False, False, False, False, False, False, False, False, False,\n",
       "        True])"
      ]
     },
     "execution_count": 90,
     "metadata": {},
     "output_type": "execute_result"
    }
   ],
   "source": [
    "np.partition(10**data['log_g'], 2) == sorted(10**data['log_g'])"
   ]
  },
  {
   "cell_type": "code",
   "execution_count": 4,
   "metadata": {},
   "outputs": [],
   "source": [
    "interp = LinearNDInterpolator(\n",
    "    list(zip(data['log_Teff'], data['log_g'])), data['initial_mass']\n",
    ")"
   ]
  },
  {
   "cell_type": "code",
   "execution_count": 38,
   "metadata": {},
   "outputs": [
    {
     "name": "stderr",
     "output_type": "stream",
     "text": [
      "<>:4: SyntaxWarning: invalid escape sequence '\\o'\n",
      "<>:4: SyntaxWarning: invalid escape sequence '\\o'\n",
      "C:\\Users\\Jared\\AppData\\Local\\Temp\\ipykernel_15664\\3261272432.py:4: SyntaxWarning: invalid escape sequence '\\o'\n",
      "  plt.colorbar(ax.collections[0], label='Mass (M$_\\odot$)')\n"
     ]
    },
    {
     "data": {
      "text/plain": [
       "array(nan)"
      ]
     },
     "execution_count": 38,
     "metadata": {},
     "output_type": "execute_result"
    },
    {
     "data": {
      "image/png": "[encoded data removed]",
      "text/plain": [
       "<Figure size 640x480 with 2 Axes>"
      ]
     },
     "metadata": {},
     "output_type": "display_data"
    }
   ],
   "source": [
    "fig, ax = plt.subplots()\n",
    "ax.scatter(data['log_g'], 10**data['log_Teff'], c=data['initial_mass'], s=1)\n",
    "ax.set_facecolor('gray')\n",
    "plt.colorbar(ax.collections[0], label='Mass (M$_\\odot$)')\n",
    "ax.scatter(2.1,5000,c=interp(2.1,5000))\n",
    "interp(4.0, 6300)"
   ]
  },
  {
   "cell_type": "code",
   "execution_count": null,
   "metadata": {},
   "outputs": [],
   "source": [
    "from scipy.interpolate import CloughTocher2DInterpolator\n",
    "\n"
   ]
  },
  {
   "cell_type": "code",
   "execution_count": null,
   "metadata": {},
   "outputs": [],
   "source": []
  }
 ],
 "metadata": {
  "kernelspec": {
   "display_name": ".thesis",
   "language": "python",
   "name": "python3"
  },
  "language_info": {
   "codemirror_mode": {
    "name": "ipython",
    "version": 3
   },
   "file_extension": ".py",
   "mimetype": "text/x-python",
   "name": "python",
   "nbconvert_exporter": "python",
   "pygments_lexer": "ipython3",
   "version": "3.13.0"
  }
 },
 "nbformat": 4,
 "nbformat_minor": 2
}

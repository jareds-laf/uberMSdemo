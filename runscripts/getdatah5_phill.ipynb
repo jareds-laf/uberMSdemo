{
 "cells": [
  {
   "cell_type": "code",
   "execution_count": 7,
   "id": "e2117e64-7d9c-4bad-b729-48cf8220407d",
   "metadata": {},
   "outputs": [],
   "source": [
    "import pdb\n",
    "import h5py\n",
    "import glob\n",
    "import numpy as np\n",
    "from astropy.table import Table\n",
    "from Payne.fitting.fitutils import airtovacuum\n",
    "from astropy.time import Time\n",
    "from astropy.coordinates import SkyCoord, EarthLocation\n",
    "import astropy.units as u\n",
    "from scipy import constants\n",
    "import os\n",
    "# from runscripts.runUTPbinary_25010_1 import getdata as my_getdata\n",
    "\n",
    "speedoflight = constants.c / 1000.0"
   ]
  },
  {
   "cell_type": "code",
   "execution_count": 100,
   "id": "8b019a14-8dd4-4441-be22-410566e1351e",
   "metadata": {},
   "outputs": [],
   "source": [
    "def getdata(catfile=None,gaiaid=None,starind=None):\n",
    "    # h5 file\n",
    "    th5 = h5py.File(catfile,'r')\n",
    "\n",
    "    # put h5 file in an astropy table\n",
    "    cat_i = Table(th5['catalog'][()])\n",
    "    \n",
    "    if gaiaid != None:\n",
    "        # h5 with just gaiaid data\n",
    "        t = th5[f'{gaiaid}']\n",
    "\n",
    "        # table with just gaiaid data\n",
    "        cat_ii = cat_i[cat_i['GAIAEDR3_ID'] == gaiaid]\n",
    "\n",
    "        # phot dict\n",
    "        cat = {x:cat_ii[x][0] for x in cat_ii.keys()}\n",
    "\n",
    "    elif starind != None:\n",
    "        cat_ii = cat_i[starind]\n",
    "        cat = {x:cat_ii[x] for x in cat_ii.keys()}\n",
    "        \n",
    "        gaiaid = cat['GAIAEDR3_ID']\n",
    "        t = th5[f'{gaiaid}']\n",
    "\n",
    "\n",
    "    # print(f\"t: {t['wave'][()]}\")\n",
    "    header = {ii:th5['header'][ii][()] for ii in th5['header'].keys()}\n",
    "    hdr_date = header['DATE-OBS']\n",
    "    location = EarthLocation.of_site('MMT')\n",
    "\n",
    "    sc = SkyCoord(ra=cat['GAIAEDR3_RA']*u.deg,dec=cat['GAIAEDR3_DEC']*u.deg)\n",
    "    barycorr = sc.radial_velocity_correction(obstime=Time(hdr_date), location=location)\n",
    "    HC = float(barycorr.to(u.km/u.s).value)\n",
    "    \n",
    "    out = {}\n",
    "    out['spec'] = {}\n",
    "    out['phot'] = {}\n",
    "    \n",
    "    # spec\n",
    "    out['spec']['obs_wave']  = (1.0 - (HC/speedoflight)) * airtovacuum(t['wave'][()])\n",
    "    out['spec']['obs_flux']  = t['flux'][()]\n",
    "    out['spec']['obs_eflux'] = t['eflux'][()]\n",
    "\n",
    "    # medflux = np.nanmedian(out['spec']['obs_flux'])\n",
    "    # out['spec']['obs_flux'] = out['spec']['obs_flux'] / medflux\n",
    "    # out['spec']['obs_eflux'] = out['spec']['obs_eflux'] / medflux\n",
    "\n",
    "    SNR = np.nanmedian(out['spec']['obs_flux']/out['spec']['obs_eflux'])\n",
    "    out['spec']['SNR'] = SNR\n",
    "    out['spec']['date'] = hdr_date\n",
    "    out['spec']['HC'] = HC\n",
    "\n",
    "    # phot\n",
    "    phot = t['phot']\n",
    "    filterarr = list(phot.keys())\n",
    "    usedfilters = []\n",
    "    \n",
    "    for ff in filterarr:            \n",
    "        phot_i = phot[ff][()]\n",
    "        if np.isfinite(phot_i[0]) & (phot_i[1] > 0.0):\n",
    "            if 'Gaia' in ff:\n",
    "                ff = ff.replace('EDR3', 'DR3')\n",
    "            if 'PS_y' in ff:\n",
    "                print(f\"Skipping filter {ff}\")\n",
    "                continue\n",
    "            out['phot'][ff] = [phot_i[0],phot_i[1]]\n",
    "            usedfilters.append(ff)\n",
    "    \n",
    "    out['phot_filtarr'] = usedfilters\n",
    "    # print(\"phot filtarr followed by phot\")\n",
    "    # print(out['phot_filtarr'])\n",
    "    # print()\n",
    "    # print(out['phot'])\n",
    "    \n",
    "    # parallax\n",
    "    out['parallax'] = [cat['GAIAEDR3_PARALLAX'],cat['GAIAEDR3_PARALLAX_ERROR']]\n",
    "    \n",
    "    # define some cluster guesses\n",
    "    if 'ic348' in catfile:\n",
    "        Avest = 1.91 # Cantat-Gaudin+ 2020\n",
    "        RVest = 15.44 # Tarricq+ 2021\n",
    "    elif 'm37' in catfile:\n",
    "        Avest = 0.75\n",
    "        RVest = 8.81\n",
    "    elif 'm3' in catfile:\n",
    "        Avest = 0.03 # Harris 1996\n",
    "        RVest = -147.2 # BAUMGARDT H. and HILKER M 2018\n",
    "    elif 'm67' in catfile:\n",
    "        Avest = 0.07\n",
    "        RVest = 34.18\n",
    "    elif 'ngc6791' in catfile:\n",
    "        Avest = 0.70\n",
    "        RVest = -47.75\n",
    "    elif 'ngc6811' in catfile:\n",
    "        Avest = 0.09\n",
    "        RVest = 7.17\n",
    "    elif 'ngc6819' in catfile:\n",
    "        Avest = 0.40\n",
    "        RVest = 2.80\n",
    "    elif 'ngc6866' in catfile:\n",
    "        Avest = 0.48\n",
    "        RVest = 12.44\n",
    "    else:\n",
    "        print('Could not understand cluster name in filename, setting Avest = 0.1 and RVest = 0.0')\n",
    "        Avest = 0.1\n",
    "        RVest = 0.0\n",
    "    \n",
    "    out['Avest'] = Avest\n",
    "    out['RVest'] = RVest\n",
    "\n",
    "    out['Teff']   = 5770.0\n",
    "    out['[Fe/H]'] = 0.0\n",
    "    out['[a/Fe]'] = 0.0\n",
    "    out['log(g)'] = 4.5\n",
    "    out['log(R)'] = 0.0\n",
    "\n",
    "    return out"
   ]
  },
  {
   "cell_type": "code",
   "execution_count": 102,
   "id": "2f6720a1-6bfe-4937-a9e4-d84c2cbd9077",
   "metadata": {},
   "outputs": [
    {
     "name": "stdout",
     "output_type": "stream",
     "text": [
      "['/data/labs/douglaslab/sofairj/data/hectochelle_rereduction/data_ngc6819_2012.0509_ngc6819_may2012_3.0223.h5']\n",
      "Skipping filter PS_y\n",
      "out phot filtarr in get all: ['2MASS_H', '2MASS_J', 'GaiaDR3_BP', 'GaiaDR3_G', 'GaiaDR3_RP', 'PS_g', 'PS_i', 'PS_r']\n",
      "data phot filtarr in get all: ['2MASS_H', '2MASS_J', 'GaiaDR3_BP', 'GaiaDR3_G', 'GaiaDR3_RP', 'PS_g', 'PS_i', 'PS_r']\n"
     ]
    },
    {
     "data": {
      "text/plain": [
       "{'2MASS_H': [13.654999732971191, 0.0679411510663857],\n",
       " '2MASS_J': [13.940999984741211, 0.060464866870328884],\n",
       " 'GaiaDR3_BP': [15.423774144665938, 0.05002172265077965],\n",
       " 'GaiaDR3_G': [15.084918, 0.05000058661244882],\n",
       " 'GaiaDR3_RP': [14.57160009952022, 0.05001403533170928],\n",
       " 'PS_g': [15.46501350402832, 0.020529308063029533],\n",
       " 'PS_i': [14.930351257324219, 0.020429329605116866],\n",
       " 'PS_r': [15.064974784851074, 0.020432112800901934]}"
      ]
     },
     "execution_count": 102,
     "metadata": {},
     "output_type": "execute_result"
    }
   ],
   "source": [
    "gaiaid=2076394173950855424\n",
    "# data = getdata(catfile='../data/hectochelle_rereduction/data_ngc6819_2012.0509_ngc6819_may2012_3.0223.h5', gaiaid=gaiaid)\n",
    "data = getall(gaiaid=gaiaid, cluster='ngc6819')\n",
    "#data\n",
    "data.keys()\n",
    "data['phot']"
   ]
  },
  {
   "cell_type": "code",
   "execution_count": 42,
   "id": "c40b7690-3937-4bea-b510-b390fe9cb3bb",
   "metadata": {},
   "outputs": [],
   "source": [
    "def getall(gaiaid=None,date=None,cluster=None):\n",
    "    \n",
    "    datasrcstr = '/data/labs/douglaslab/sofairj/data/hectochelle_rereduction/'\n",
    "    \n",
    "    filesrstr = '*'\n",
    "    # list of all possible HDF5 files\n",
    "    if cluster != None:\n",
    "        filesrstr += f'{cluster}*'\n",
    "    if date != None:\n",
    "        filesrstr += f'{date}*'\n",
    "\n",
    "    filesrstr += '.h5'\n",
    "    flist = glob.glob(datasrcstr+filesrstr)\n",
    "\n",
    "    # get the HDF5 files with this star\n",
    "    workingfiles = []\n",
    "    for ff in flist:\n",
    "        with h5py.File(ff,'r') as th5:\n",
    "            if f'{gaiaid}' in list(th5.keys()):\n",
    "                workingfiles.append(ff)    \n",
    "    if len(workingfiles) == 0:\n",
    "        print(f'Could Not Find Any Spectra for GaiaID = {gaiaid}')\n",
    "        return None\n",
    "\n",
    "    print(workingfiles)\n",
    "    \n",
    "    out = {}\n",
    "    out['spec'] = []\n",
    "    out['specname'] = []\n",
    "    for ii,ww in enumerate(workingfiles):\n",
    "        data = getdata(catfile=ww,gaiaid=gaiaid)\n",
    "        if ii == 0:\n",
    "            out['phot']     = data['phot']\n",
    "            out['phot_filtarr'] = data['phot_filtarr']\n",
    "            out['parallax'] = data['parallax']\n",
    "            out['Avest']    = data['Avest']\n",
    "            out['RVest']    = data['RVest']\n",
    "\n",
    "            out['Teff']   = data['Teff']\n",
    "            out['[Fe/H]'] = data['[Fe/H]']\n",
    "            out['[a/Fe]'] = data['[a/Fe]']\n",
    "            out['log(g)'] = data['log(g)']\n",
    "            out['log(R)'] = data['log(R)']\n",
    "\n",
    "        if data['spec']['SNR'] >= 3.0:\n",
    "            out['spec'].append(data['spec'])\n",
    "            out['specname'].append(ww.split('/')[-1])\n",
    "    \n",
    "    if len(out['spec']) > 2:\n",
    "        # sort spectra by date\n",
    "        sortind = np.argsort(out['specname'])\n",
    "        out['spec'] = list(np.array(out['spec'])[sortind])\n",
    "        out['specname'] = list(np.array(out['specname'])[sortind])\n",
    "\n",
    "    print(f\"out phot filtarr in get all: {out['phot_filtarr']}\")\n",
    "    print(f\"data phot filtarr in get all: {data['phot_filtarr']}\")\n",
    "\n",
    "    return out"
   ]
  },
  {
   "cell_type": "code",
   "execution_count": 43,
   "id": "74064696-1e94-456f-90eb-d6d44dd181f7",
   "metadata": {},
   "outputs": [
    {
     "name": "stdout",
     "output_type": "stream",
     "text": [
      "['/data/labs/douglaslab/sofairj/data/hectochelle_rereduction/data_ngc6819_2012.0509_ngc6819_may2012_3.0223.h5']\n",
      "phot filtarr followed by phot\n",
      "['2MASS_H', '2MASS_J', 'GaiaDR3_BP', 'GaiaDR3_G', 'GaiaDR3_RP', 'PS_g', 'PS_i', 'PS_r', 'PS_y']\n",
      "\n",
      "{'2MASS_H': [13.654999732971191, 0.0679411510663857], '2MASS_J': [13.940999984741211, 0.060464866870328884], 'GaiaDR3_BP': [15.423774144665938, 0.05002172265077965], 'GaiaDR3_G': [15.084918, 0.05000058661244882], 'GaiaDR3_RP': [14.57160009952022, 0.05001403533170928], 'PS_g': [15.46501350402832, 0.020529308063029533], 'PS_i': [14.930351257324219, 0.020429329605116866], 'PS_r': [15.064974784851074, 0.020432112800901934], 'PS_y': [14.845098495483398, 0.020433520544655397]}\n",
      "out phot filtarr in get all: ['2MASS_H', '2MASS_J', 'GaiaDR3_BP', 'GaiaDR3_G', 'GaiaDR3_RP', 'PS_g', 'PS_i', 'PS_r', 'PS_y']\n",
      "data phot filtarr in get all: ['2MASS_H', '2MASS_J', 'GaiaDR3_BP', 'GaiaDR3_G', 'GaiaDR3_RP', 'PS_g', 'PS_i', 'PS_r', 'PS_y']\n"
     ]
    }
   ],
   "source": [
    "gaiaid=2076394173950855424\n",
    "# data = getdata(catfile='../data/hectochelle_rereduction/data_ngc6819_2012.0509_ngc6819_may2012_3.0223.h5', gaiaid=gaiaid)\n",
    "data = getall(gaiaid=gaiaid, cluster='ngc6819')\n",
    "#data\n",
    "#data['spec']"
   ]
  },
  {
   "cell_type": "code",
   "execution_count": 68,
   "id": "ef6d3cf2-8649-44ff-8ccf-27b065d63f9b",
   "metadata": {},
   "outputs": [],
   "source": [
    "def my_getdata(gaiaid='', datasrcstr=''):\n",
    "    # read in observed spectrum\n",
    "    hecto_dir = os.path.expanduser(\"/data/labs/douglaslab/sofairj/data/hectochelle_rereduction\")\n",
    "    hecto_filename = os.path.join(hecto_dir, \"data_ngc6819_2012.0509_ngc6819_may2012_3.0223.h5\")\n",
    "    f = h5py.File(hecto_filename, 'r')\n",
    "\n",
    "    target = str(2076394173950855424)\n",
    "    spec = Table([f[target]['wave'], f[target]['flux'],\n",
    "                  f[target]['eflux']],\n",
    "                  names=('wave', 'flux', 'eflux'))\n",
    "    spec = spec[(spec['wave'] > 5150.0) & (spec['wave'] < 5300.0)]\n",
    "    # breakpoint()\n",
    "    # read in phot\n",
    "    # create table with photometry for every filter\n",
    "    phottab = f[target]['phot']\n",
    "\n",
    "    # get the filters\n",
    "    filtarr = phottab.keys()\n",
    "\n",
    "    phot = {}\n",
    "    # create a dict with {filter name: [flux magnitude, flux error]}\n",
    "    for i, filter in enumerate(filtarr):\n",
    "        # skip the PS_y filter because the NN is not trained on it??\n",
    "        # it is at least not being generated by the genphot function in runSVI\n",
    "        if filter != 'PS_y':\n",
    "            phot[filter] = [float(phottab[filter][0]),float(phottab[filter][1])]\n",
    "        else:\n",
    "            print(f'Skipping {filter} filter')\n",
    "        # phot[filter] = [float(phottab[filter][0]),float(phottab[filter][1])]\n",
    "\n",
    "    # Need to change the names of the Gaia EDR3 filters to DR3\n",
    "    # These filters are unchanged between EDR3 and DR3\n",
    "    phot['GaiaDR3_BP'] = phot.pop('GaiaEDR3_BP')\n",
    "    phot['GaiaDR3_RP'] = phot.pop('GaiaEDR3_RP')\n",
    "    phot['GaiaDR3_G'] = phot.pop('GaiaEDR3_G')\n",
    "\n",
    "    # read in MIST isochrone\n",
    "    # iso = at.read(\"./data/MIST_iso_67e56fd8ac521.iso.cmd\")\n",
    "    # filter out AGB/RGB stars so we're left with just main sequence stars\n",
    "    # ms = (iso['EEP'] < 605) & (iso['log_g'] > 2.0)\n",
    "    # iso = iso[ms]\n",
    "    #print(f\"Here is your iso in the getdata():\\n{iso}\")\n",
    "    # create out dict\n",
    "    out = {}\n",
    "\n",
    "    out['spec'] = {}\n",
    "    out['spec']['obs_wave'] = spec['wave']\n",
    "    # out['spec']['obs_wave']  = (1.0 - (HC/speedoflight)) * airtovacuum(spec['wave'][()])\n",
    "\n",
    "    out['spec']['obs_flux'] = spec['flux']\n",
    "    out['spec']['obs_eflux'] = spec['eflux']\n",
    "    \n",
    "    out['phot'] = {}\n",
    "    # for each filter, add the magnitude and error to the out dict\n",
    "    for kk in phot:\n",
    "        phot_i = phot[kk]\n",
    "        out['phot'][kk] = [phot_i[0],phot_i[1]]\n",
    "\n",
    "    #out['iso'] = iso['log_Teff', 'log_g', 'initial_mass']\n",
    "    #out['iso']['Teff'] = 10**out['iso']['log_Teff']\n",
    "    #del(out['iso']['log_Teff'])\n",
    "\n",
    "    out['parallax'] = [0.3821, 0.0181]\n",
    "    out['RVest'] = 2.5\n",
    "    out['Avest'] = 0.09\n",
    "\n",
    "    # print(f'Just before outputting, here is your out dict:\\n{out}')\n",
    "\n",
    "    return out"
   ]
  },
  {
   "cell_type": "code",
   "execution_count": 90,
   "id": "29058876-4ac8-4d40-a6dd-694f80d78a4a",
   "metadata": {},
   "outputs": [
    {
     "name": "stdout",
     "output_type": "stream",
     "text": [
      "['/data/labs/douglaslab/sofairj/data/hectochelle_rereduction/data_ngc6819_2012.0509_ngc6819_may2012_3.0223.h5']\n",
      "out phot filtarr in get all: ['2MASS_H', '2MASS_J', 'GaiaDR3_BP', 'GaiaDR3_G', 'GaiaDR3_RP', 'PS_g', 'PS_i', 'PS_r', 'PS_y']\n",
      "data phot filtarr in get all: ['2MASS_H', '2MASS_J', 'GaiaDR3_BP', 'GaiaDR3_G', 'GaiaDR3_RP', 'PS_g', 'PS_i', 'PS_r', 'PS_y']\n",
      "Skipping PS_y filter\n"
     ]
    }
   ],
   "source": [
    "gaiaid=2076394173950855424\n",
    "# data, t = getdata(catfile='../data/hectochelle_rereduction/data_ngc6819_2012.0509_ngc6819_may2012_3.0223.h5', gaiaid=gaiaid)\n",
    "data = getall(gaiaid=gaiaid, cluster='ngc6819')\n",
    "data2 = my_getdata()"
   ]
  },
  {
   "cell_type": "code",
   "execution_count": 80,
   "id": "b9f54cb3-bd17-4085-b2ba-c5afac2a398e",
   "metadata": {},
   "outputs": [
    {
     "data": {
      "text/plain": [
       "array([5160.00330021, 5160.03913355, 5160.07496686, ..., 5289.93561784,\n",
       "       5289.96740831, 5289.99919684], dtype='>f8')"
      ]
     },
     "execution_count": 80,
     "metadata": {},
     "output_type": "execute_result"
    }
   ],
   "source": [
    "t"
   ]
  },
  {
   "cell_type": "code",
   "execution_count": 91,
   "id": "fdc197fb-2d76-4dcf-95ff-4bba24d430df",
   "metadata": {},
   "outputs": [
    {
     "data": {
      "text/plain": [
       "(dict_keys(['spec', 'specname', 'phot', 'phot_filtarr', 'parallax', 'Avest', 'RVest', 'Teff', '[Fe/H]', '[a/Fe]', 'log(g)', 'log(R)']),\n",
       " dict_keys(['spec', 'phot', 'parallax', 'RVest', 'Avest']))"
      ]
     },
     "execution_count": 91,
     "metadata": {},
     "output_type": "execute_result"
    }
   ],
   "source": [
    "data.keys(), data2.keys()"
   ]
  },
  {
   "cell_type": "code",
   "execution_count": 95,
   "id": "8536b34a-bade-4f31-9b70-312e2877091f",
   "metadata": {},
   "outputs": [
    {
     "data": {
      "text/plain": [
       "array([5161.18824286, 5161.224084  , 5161.2599251 , 5161.29576615,\n",
       "       5161.33160717])"
      ]
     },
     "execution_count": 95,
     "metadata": {},
     "output_type": "execute_result"
    }
   ],
   "source": [
    "data['spec'][0]['obs_wave'][:5]"
   ]
  },
  {
   "cell_type": "code",
   "execution_count": 84,
   "id": "e9a6f76a-b35c-4ccb-8d19-38e0d180f053",
   "metadata": {},
   "outputs": [
    {
     "data": {
      "text/plain": [
       "(array([], dtype=int64),)"
      ]
     },
     "execution_count": 84,
     "metadata": {},
     "output_type": "execute_result"
    }
   ],
   "source": [
    "np.where((t == np.array(data2['spec']['obs_wave'])) == False)\n",
    "# data['spec'][0]['obs_wave'], data2['spec']['obs_wave']"
   ]
  },
  {
   "cell_type": "code",
   "execution_count": 10,
   "id": "63d1c0a8-fce2-4452-86c3-a0215e000303",
   "metadata": {},
   "outputs": [
    {
     "data": {
      "text/plain": [
       "{'2MASS_H': [13.654999732971191, 0.0679411510663857],\n",
       " '2MASS_J': [13.940999984741211, 0.060464866870328884],\n",
       " 'PS_g': [15.46501350402832, 0.020529308063029533],\n",
       " 'PS_i': [14.930351257324219, 0.020429329605116866],\n",
       " 'PS_r': [15.064974784851074, 0.020432112800901934],\n",
       " 'PS_y': [14.845098495483398, 0.020433520544655397],\n",
       " 'GaiaDR3_BP': [15.423774144665938, 0.05002172265077965],\n",
       " 'GaiaDR3_RP': [14.57160009952022, 0.05001403533170928],\n",
       " 'GaiaDR3_G': [15.084918, 0.05000058661244882]}"
      ]
     },
     "execution_count": 10,
     "metadata": {},
     "output_type": "execute_result"
    }
   ],
   "source": [
    "data2['phot']"
   ]
  },
  {
   "cell_type": "code",
   "execution_count": 54,
   "id": "9891c3c1-4fb6-4803-ab62-dc930279c5c6",
   "metadata": {},
   "outputs": [
    {
     "data": {
      "text/html": [
       "<div><i>Table length=2</i>\n",
       "<table id=\"table22513994678720\" class=\"table-striped table-bordered table-condensed\">\n",
       "<thead><tr><th>a</th><th>b</th><th>c</th><th>d</th><th>e</th><th>f</th><th>g</th></tr></thead>\n",
       "<thead><tr><th>int32</th><th>float64</th><th>str1</th><th>float64</th><th>int64</th><th>str2</th><th>str21</th></tr></thead>\n",
       "<tr><td>1</td><td>2.0</td><td>x</td><td>89.0</td><td>17</td><td>hi</td><td>shorb</td></tr>\n",
       "<tr><td>4</td><td>5.0</td><td>y</td><td>2.2</td><td>723</td><td>no</td><td>3</td></tr>\n",
       "</table></div>"
      ],
      "text/plain": [
       "<Table length=2>\n",
       "  a      b     c      d      e    f     g  \n",
       "int32 float64 str1 float64 int64 str2 str21\n",
       "----- ------- ---- ------- ----- ---- -----\n",
       "    1     2.0    x    89.0    17   hi shorb\n",
       "    4     5.0    y     2.2   723   no     3"
      ]
     },
     "execution_count": 54,
     "metadata": {},
     "output_type": "execute_result"
    }
   ],
   "source": [
    "from astropy.table import QTable, Table, Column\n",
    "from astropy import units as u\n",
    "import numpy as np\n",
    "\n",
    "a = np.array([1, 4], dtype=np.int32)\n",
    "b = [2.0, 5.0]\n",
    "c = ['x', 'y']\n",
    "d = [89, 2.2]\n",
    "e = [17, 723]\n",
    "f = ['hi', 'no']\n",
    "g = ['shorb', 3]\n",
    "\n",
    "t = Table([a, b, c, d, e, f, g], names=('a', 'b', 'c', 'd', 'e', 'f', 'g'))\n",
    "filtarr = ['a', 'w', 'b', 'z', 'c', 'e', 'f', 'g', 'd', 'y']\n",
    "# t = [t[xx] for xx in filtarr]\n",
    "try:\n",
    "    t = [t[xx] for xx in filtarr]\n",
    "except KeyError:\n",
    "    pass\n",
    "t"
   ]
  },
  {
   "cell_type": "code",
   "execution_count": 60,
   "id": "24a99a83-7aa5-4c4a-a13e-b2463eea9d93",
   "metadata": {},
   "outputs": [
    {
     "data": {
      "text/plain": [
       "<KeysViewHDF5 ['2MASS_H', '2MASS_J', 'GaiaEDR3_BP', 'GaiaEDR3_G', 'GaiaEDR3_RP', 'PS_g', 'PS_i', 'PS_r', 'PS_y']>"
      ]
     },
     "execution_count": 60,
     "metadata": {},
     "output_type": "execute_result"
    }
   ],
   "source": [
    "th5 = h5py.File('../data/hectochelle_rereduction/data_ngc6819_2012.0509_ngc6819_may2012_3.0223.h5','r')\n",
    "gaiaid=2076394173950855424\n",
    "\n",
    "t = th5[f'{gaiaid}']\n",
    "t['phot'].keys()"
   ]
  },
  {
   "cell_type": "code",
   "execution_count": 7,
   "id": "694638d4-49c7-4648-b98e-4dd61118b70c",
   "metadata": {},
   "outputs": [
    {
     "name": "stdout",
     "output_type": "stream",
     "text": [
      "failed on GaiaDR3_BP\n",
      "failed on GaiaDR3_G\n",
      "failed on GaiaDR3_RP\n",
      "failed on PS_g\n",
      "failed on PS_i\n",
      "failed on PS_r\n",
      "failed on PS_y\n",
      "{'2MASS_H': (15.41381765, 'dtype=float64'), '2MASS_J': (15.74595812, 'dtype=float64'), 0: (15.41381765, 'dtype=float64'), 1: (15.74595812, 'dtype=float64')}\n"
     ]
    }
   ],
   "source": [
    "import jax.numpy as jnp\n",
    "import jax\n",
    "photmod_a = {'2MASS_H': (15.41381765, 'dtype=float64'), '2MASS_J': (15.74595812, 'dtype=float64')}#, '2MASS_Ks': (15.360152, dtype=float64), 'GaiaDR3_BP': (17.26480991, dtype=float64), 'GaiaDR3_G': (16.89867956, dtype=float64), 'GaiaDR3_RP': (16.35697298, dtype=float64), 'PS_g': (17.32971985, dtype=float64), 'PS_i': (16.7093741, dtype=float64), 'PS_r': (16.88157518, dtype=float64), 'PS_z': (16.65634281, dtype=float64), 'WISE_W1': (15.33907628, dtype=float64), 'WISE_W2': (15.34342511, dtype=float64), 'WISE_W3': (15.31416374, dtype=float64), 'WISE_W4': (15.30770745, dtype=float64)}\n",
    "photmod_b = {'2MASS_H': (15.76234387, 'dtype=float64'), '2MASS_J': (15.56781334, 'dtype=float64')}#, '2MASS_Ks': (15.360152, dtype=float64), 'GaiaDR3_BP': (17.26480991, dtype=float64), 'GaiaDR3_G': (16.89867956, dtype=float64), 'GaiaDR3_RP': (16.35697298, dtype=float64), 'PS_g': (17.32971985, dtype=float64), 'PS_i': (16.7093741, dtype=float64), 'PS_r': (16.88157518, dtype=float64), 'PS_z': (16.65634281, dtype=float64), 'WISE_W1': (15.33907628, dtype=float64), 'WISE_W2': (15.34342511, dtype=float64), 'WISE_W3': (15.31416374, dtype=float64), 'WISE_W4': (15.30770745, dtype=float64)} \n",
    "\n",
    "\n",
    "filtarr = ['2MASS_H', '2MASS_J', 'GaiaDR3_BP', 'GaiaDR3_G', 'GaiaDR3_RP', 'PS_g', 'PS_i', 'PS_r', 'PS_y']\n",
    "\n",
    "# for i in filtarr:\n",
    "#     for m_a, m_b in zip(photmod_a[i],photmod_b[i]):\n",
    "#         print(m_a, m_b)\n",
    "\n",
    "for ii, xx in enumerate(filtarr):\n",
    "    try:\n",
    "        photmod_a[ii] = photmod_a[xx]\n",
    "        #print(ii, xx)\n",
    "    except KeyError:\n",
    "        print(f'failed on {xx}')\n",
    "\n",
    "print(photmod_a)\n",
    "\n",
    "# for m_a, m_b in zip(photmod_a,photmod_b):\n",
    "#     print(photmod_a[m_a], photmod_b[m_b])"
   ]
  },
  {
   "cell_type": "code",
   "execution_count": 10,
   "id": "6cb9cb1f-b926-4273-81fb-45b2fb7899dc",
   "metadata": {},
   "outputs": [
    {
     "name": "stdout",
     "output_type": "stream",
     "text": [
      "(15.41381765, 'dtype=float64')\n",
      "(15.74595812, 'dtype=float64')\n"
     ]
    }
   ],
   "source": [
    "for ii, xx in enumerate(filtarr):\n",
    "    try:\n",
    "        print(photmod_a[ii])\n",
    "    except KeyError:\n",
    "        pass"
   ]
  },
  {
   "cell_type": "code",
   "execution_count": 36,
   "id": "94708e99-9ecd-49e0-863a-d8c1558f03b8",
   "metadata": {},
   "outputs": [
    {
     "data": {
      "text/plain": [
       "[('2MASS_H', '2MASS_H'), ('2MASS_J', '2MASS_J')]"
      ]
     },
     "execution_count": 36,
     "metadata": {},
     "output_type": "execute_result"
    }
   ],
   "source": [
    "# photmod_est = (\n",
    "#     [-2.5 * jnp.log10( 10.0**(-0.4 * m_a) + 10.0**(-0.4 * m_b) ) for m_a, m_b in zip(photmod_a,photmod_b)]\n",
    "# )\n",
    "\n",
    "photmod_est = (\n",
    "    [(m_a, m_b) for m_a, m_b in zip(photmod_a,photmod_b)]\n",
    ")\n",
    "photmod_est"
   ]
  }
 ],
 "metadata": {
  "kernelspec": {
   "display_name": "Python 3 (ipykernel)",
   "language": "python",
   "name": "python3"
  },
  "language_info": {
   "codemirror_mode": {
    "name": "ipython",
    "version": 3
   },
   "file_extension": ".py",
   "mimetype": "text/x-python",
   "name": "python",
   "nbconvert_exporter": "python",
   "pygments_lexer": "ipython3",
   "version": "3.9.21"
  }
 },
 "nbformat": 4,
 "nbformat_minor": 5
}

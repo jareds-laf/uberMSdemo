{
 "cells": [
  {
   "cell_type": "code",
   "execution_count": 2,
   "id": "12b94bc4-1a6d-4425-b566-964197dbab5e",
   "metadata": {},
   "outputs": [
    {
     "ename": "ModuleNotFoundError",
     "evalue": "No module named 'runUTPsmes'",
     "output_type": "error",
     "traceback": [
      "\u001b[0;31m---------------------------------------------------------------------------\u001b[0m",
      "\u001b[0;31mModuleNotFoundError\u001b[0m                       Traceback (most recent call last)",
      "\u001b[0;32m/tmp/ipykernel_107466/1250014138.py\u001b[0m in \u001b[0;36m<cell line: 8>\u001b[0;34m()\u001b[0m\n\u001b[1;32m      6\u001b[0m \u001b[0;34m\u001b[0m\u001b[0m\n\u001b[1;32m      7\u001b[0m \u001b[0;32mfrom\u001b[0m \u001b[0mPayne\u001b[0m\u001b[0;34m.\u001b[0m\u001b[0mjax\u001b[0m\u001b[0;34m.\u001b[0m\u001b[0mgenmod\u001b[0m \u001b[0;32mimport\u001b[0m \u001b[0mGenMod\u001b[0m\u001b[0;34m\u001b[0m\u001b[0;34m\u001b[0m\u001b[0m\n\u001b[0;32m----> 8\u001b[0;31m \u001b[0;32mfrom\u001b[0m \u001b[0mrunUTPsmes\u001b[0m \u001b[0;32mimport\u001b[0m \u001b[0mgetdata\u001b[0m\u001b[0;34m\u001b[0m\u001b[0;34m\u001b[0m\u001b[0m\n\u001b[0m\u001b[1;32m      9\u001b[0m \u001b[0;34m\u001b[0m\u001b[0m\n\u001b[1;32m     10\u001b[0m \u001b[0;32mimport\u001b[0m \u001b[0mmatplotlib\u001b[0m\u001b[0;34m\u001b[0m\u001b[0;34m\u001b[0m\u001b[0m\n",
      "\u001b[0;31mModuleNotFoundError\u001b[0m: No module named 'runUTPsmes'"
     ]
    }
   ],
   "source": [
    "from astropy.table import Table\n",
    "import numpy as np\n",
    "import argparse\n",
    "from jax import jit\n",
    "import itertools\n",
    "\n",
    "from Payne.jax.genmod import GenMod\n",
    "from runUTPsmes import getdata\n",
    "\n",
    "import matplotlib\n",
    "matplotlib.use('AGG')\n",
    "import matplotlib.pyplot as plt\n",
    "from matplotlib.backends.backend_pdf import PdfPages\n",
    "import matplotlib.gridspec as gridspec\n",
    "from matplotlib.ticker import MaxNLocator\n",
    "import os"
   ]
  },
  {
   "cell_type": "code",
   "execution_count": null,
   "id": "61a760fe-2b3d-46d5-802d-6ca0adb26749",
   "metadata": {},
   "outputs": [],
   "source": [
    "specNN = '../models/specNN/modV0_spec_LinNet_R42K_WL510_535_wvt.h5'\n",
    "photNN = './models/photNN/'\n",
    "NNtype = 'LinNet'\n",
    "mistNN = './models/mistNN/mistyNN_2.3_v256_v0.h5'\n",
    "SBlib  = './models/specNN/c3k_v1.3.sed_r500.h5'\n",
    "\n",
    "def planck(wav, T):\n",
    "    h = 6.626e-34\n",
    "    c = 3.0e+8\n",
    "    k = 1.38e-23\n",
    "\n",
    "    wave_i = wav*(1E-10)\n",
    "    a = 2.0*h*c**2\n",
    "    b = h*c/(wave_i*k*T)\n",
    "    intensity = a/ ( (wave_i**5) * (np.exp(b) - 1.0) )\n",
    "    return intensity\n",
    "\n",
    "from scipy import constants\n",
    "speedoflight = constants.c / 1000.0\n",
    "\n",
    "# useful constants\n",
    "# speedoflight = 2.997924e+10\n",
    "speedoflight_kms = 2.997924e+5\n",
    "speedoflight_nms = 2.997924e+17\n",
    "lsun = 3.846e33\n",
    "pc = 3.085677581467192e18  # in cm\n",
    "jansky_cgs = 1e-23\n",
    "# value to go from L_sun to erg/s/cm^2 at 10pc\n",
    "log_rsun_cgs = np.log10(6.955) + 10.0\n",
    "log_lsun_cgs = np.log10(lsun)\n",
    "log4pi = np.log10(4 * np.pi)\n",
    "\n",
    "rng = np.random.default_rng()"
   ]
  },
  {
   "cell_type": "code",
   "execution_count": null,
   "id": "1ab98a99-7b9c-418a-b09e-06e246ee949a",
   "metadata": {},
   "outputs": [],
   "source": []
  }
 ],
 "metadata": {
  "kernelspec": {
   "display_name": "Python 3 (ipykernel)",
   "language": "python",
   "name": "python3"
  },
  "language_info": {
   "codemirror_mode": {
    "name": "ipython",
    "version": 3
   },
   "file_extension": ".py",
   "mimetype": "text/x-python",
   "name": "python",
   "nbconvert_exporter": "python",
   "pygments_lexer": "ipython3",
   "version": "3.9.21"
  }
 },
 "nbformat": 4,
 "nbformat_minor": 5
}

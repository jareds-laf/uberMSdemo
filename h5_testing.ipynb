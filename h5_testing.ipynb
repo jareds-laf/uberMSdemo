{
 "cells": [
  {
   "cell_type": "code",
   "execution_count": 1,
   "metadata": {},
   "outputs": [],
   "source": [
    "import numpy as np\n",
    "import argparse\n",
    "from astropy.table import Table\n",
    "import os\n",
    "import astropy.units as u\n",
    "from astropy.units import cds\n",
    "from astropy.nddata import StdDevUncertainty\n",
    "import h5py\n",
    "from specutils import Spectrum1D\n",
    "from astropy.io import fits"
   ]
  },
  {
   "cell_type": "code",
   "execution_count": 11,
   "metadata": {},
   "outputs": [
    {
     "name": "stdout",
     "output_type": "stream",
     "text": [
      "<KeysViewHDF5 ['2080061393129929088', '2080062973677923840', '2080063763947694976', '2080064653004009088', '2080085582385980288', '2080087162933787008', '2080087643970202624', '2080088331164882560', '2080089396316882688', '2080089598179046016', '2080090255310324736', '2080090289670075264', '2080090427109053568', '2080091492261057408', '2080093210247977600', '2080097058538601088', '2080097191676689536', '2080097260396182016', '2080098123690634112', '2080098845245174528', '2080099154482771200', '2080475909013845888', '2128018890577388672', '2128020922102070400', '2128067445187794816', '2128067823144933376', '2128093592947472512', '2128095104776005248', '2128095723251310464', '2128097441238130432', '2128097750468944512', '2128099983858866816', '2128101182149575808', '2128101976725587072', '2128102114162692224', '2128102492119815168', '2128102801357490048', '2128102938796435712', '2128103243733956224', '2128104141387274240', '2128105000380699136', '2128105584489662720', '2128106477849445376', '2128106576634345216', '2128107955318595328', '2128107989678328704', '2128108092750656000', '2128108294615662720', '2128108436354871936', '2128108539434096256', '2128108913090657536', '2128109123549689856', '2128109570227736320', '2128110257413561984', '2128111627508735488', '2128111700529585024', '2128111837968551808', '2128112452142469376', '2128112800035444096', '2128113074919432320', '2128113418516832896', '2128113517294528512', '2128113727748208768', '2128115961131419136', '2128115995497184384', '2128116751405555968', '2128117090707340416', '2128118022721804032', '2128118881715293440', '2128119294032137216', '2128119568910037632', '2128120221745116416', '2128120286164390400', '2128120393543835648', '2128121080738614016', '2128121286891350656', '2128121493055451136', '2128121901072299904', '2128121974091822208', '2128122420768297216', '2128122730005939584', '2128122867439085440', '2128123657718886016', '2128124963389009792', '2128125135187725696', '2128125203907205376', '2128125856742195456', '2128126539637279360', '2128127506009807232', '2128128124484679168', '2128128261923639424', '2128129842471629440', '2128129876831370880', '2128130838905961344', '2128131182501394688', '2128131281282851072', '2128131319940725504', '2128131972770439808', '2128132002840746752', '2128132075854975232', '2128132453806697728', '2128132556891271168', '2128132934848443520', '2128133106647124224', '2128133381525076992', '2128133622044757760', '2128133828201680128', '2128133896921176576', '2128134171799078144', '2128134549756169856', '2128134824634071424', '2128135133866662272', '2128135408750445056', '2128135546188203904', '2128136267743226624', '2128136370822408576', '2128137676493142272', '2128139149666352256', '2128139531918403456', '2128139600637877120', '2128139978594904832', '2128140219113783296', '2128140665791147520', '2128141387344149888', '2128141662222089216', '2128142108898708992', '2128142280697438208', '2128142830453283200', '2128143826885684864', '2128144204842804992', '2128144342281521152', '2128144823317868288', '2128144960756839424', '2128145201275015296', '2128145338713989120', '2128145368773804288', '2128145506214540800', '2128147361638828672', '2128147980119157760', '2128148461150601472', '2128148568529429120', '2128148770387905664', '2128149217064678144', '2128149358803333504', '2128149874199376896', '2128150836272089216', '2128150973711078656', '2128151317303131520', '2128151351669745536', '2128151484807687808', '2128152691698580608', '2128153202794448128', '2128153305873743744', '2128153447612322176', '2128153619411014400', '2128153649471265920', '2128155371757730816', '2128156299470704128', '2128157845658813440', '2128157914378846720', '2128158017458071680', '2128158395415226752', '2128159975963235840', '2128163102698388352', '2128163274497091328', '2128164717606184832', '2128164786325655936', '2128164855045149824', '2128165297420351744', '2128167225867000576', '2128167255924804736', '2128168256659148032', '2128170180806442880', '2128171452114982016', '2128172306810473728', '2128172787845115392', '2128173032662959232', '2128174097814830848', '2128177121472317184', '2128177499429500672', '2128198046553137664', '2128198527589437696', '2128198630664893952', '2128198836827103616', '2128199627101138304', '2128515216999497600', 'catalog', 'header']>\n",
      "<class 'h5py._hl.files.File'>\n"
     ]
    }
   ],
   "source": [
    "hecto_dir = os.path.expanduser(r\"G:\\Shared drives\\DouglasGroup\\data\\MMT Hectochelle\\Reduced Spectra\")\n",
    "hecto_filename = os.path.join(hecto_dir,\"data_ngc6811_2019.0516_hectochelle_NGC6811_2019b_1.8149.h5\")\n",
    "f = h5py.File(hecto_filename, 'r')\n",
    "print(f.keys())\n",
    "print(type(f))"
   ]
  },
  {
   "cell_type": "code",
   "execution_count": 8,
   "metadata": {},
   "outputs": [
    {
     "name": "stdout",
     "output_type": "stream",
     "text": [
      "<KeysViewHDF5 ['eflux', 'flux', 'flux_raw', 'ivar_raw', 'mask_raw', 'phot', 'wave', 'wave_raw']>\n",
      "<HDF5 dataset \"flux\": shape (3739,), type \"<f8\">\n",
      "[0.88449419 0.82122054 0.82058264]\n"
     ]
    }
   ],
   "source": [
    "star_data = f['2080061393129929088']\n",
    "print(star_data.keys())\n",
    "\n",
    "print(star_data['flux'])\n",
    "print(star_data['flux'][:3])"
   ]
  },
  {
   "cell_type": "code",
   "execution_count": 9,
   "metadata": {},
   "outputs": [
    {
     "name": "stdout",
     "output_type": "stream",
     "text": [
      "<HDF5 dataset \"flux\": shape (3739,), type \"<f8\">\n",
      "<HDF5 dataset \"eflux\": shape (3739,), type \"<f8\">\n",
      "<HDF5 dataset \"wave\": shape (3739,), type \">f8\">\n"
     ]
    }
   ],
   "source": [
    "print(star_data['flux'])\n",
    "print(star_data['eflux'])\n",
    "print(star_data['wave'])"
   ]
  },
  {
   "cell_type": "code",
   "execution_count": 31,
   "metadata": {},
   "outputs": [
    {
     "name": "stdout",
     "output_type": "stream",
     "text": [
      "5289.998419890931 5160.0200104603355\n",
      "3739 3739\n"
     ]
    }
   ],
   "source": [
    "spec = Table([star_data['wave'], star_data['flux'], star_data['eflux']], names=('wave', 'flux', 'err'))\n",
    "print(spec['wave'].max(), spec['wave'].min())\n",
    "print(len(spec[(spec['wave'] > 5150) & (spec['wave'] < 5300)]), len(spec))"
   ]
  },
  {
   "cell_type": "code",
   "execution_count": 24,
   "metadata": {},
   "outputs": [
    {
     "name": "stdout",
     "output_type": "stream",
     "text": [
      "[5160.02001046 5160.05606708 5160.09212375 ... 5289.93401566 5289.96621873\n",
      " 5289.99841989] Angstrom\n"
     ]
    }
   ],
   "source": [
    "target = str(2080061393129929088)\n",
    "wav = f[target][\"wave\"] * u.AA\n",
    "flu = f[target][\"flux\"] * u.Jy\n",
    "err = StdDevUncertainty(f[target][\"eflux\"]*u.Jy)\n",
    "\n",
    "# So when you print spec[i], you get the ith row of the table\n",
    "spec = Spectrum1D(spectral_axis=wav, flux=flu, uncertainty=err)\n",
    "\n",
    "print(spec.wavelength)"
   ]
  },
  {
   "cell_type": "code",
   "execution_count": 26,
   "metadata": {},
   "outputs": [
    {
     "name": "stdout",
     "output_type": "stream",
     "text": [
      "Filename: demospec_18Sco.fits\n",
      "No.    Name      Ver    Type      Cards   Dimensions   Format\n",
      "  0  PRIMARY       1 PrimaryHDU       4   ()      \n",
      "  1                1 BinTableHDU     14   1536R x 3C   [D, D, D]   \n",
      "       wave               flux                 err         \n",
      "------------------ ------------------ ---------------------\n",
      " 5143.572207933707 0.9618665027946625  0.002412398407263862\n",
      "  5143.67925856682 0.8898642584687477 0.0023271255826874454\n",
      "5143.7863110438975 0.9015520663580598  0.002340774520913577\n",
      " 5143.893365351078  0.966150578460005  0.002417976775967927\n",
      " 5144.000421474493 0.9843699571431063    0.0024373935209614\n",
      " 5144.107479400274 0.9943425750004647 0.0024524017864910683\n",
      " 5144.214539114539 0.9981864530254174  0.002457016135469833\n",
      "   5144.3216006034 0.9853511288005427 0.0024420532959797212\n",
      " 5144.428663852964 0.9692591567489814 0.0024225617639575653\n",
      "  5144.53572884933 0.9255580457540149 0.0023694980407007286\n",
      "               ...                ...                   ...\n",
      " 5300.329978563882 0.9816272618232692 0.0028400810043077646\n",
      " 5300.422908347827 0.9741948137608183  0.002831783093639956\n",
      " 5300.515819364195 0.9782492968313686 0.0028390188518859732\n",
      " 5300.608711605417 0.9236936468674258 0.0027592701834077806\n",
      "5300.7015850639345 0.7592681850559801  0.002515070345981433\n",
      "5300.7944397322135 0.7436025772545853  0.002493304905623664\n",
      " 5300.887275602725 0.8949210295264082  0.002724890674056695\n",
      " 5300.980092667962 0.9164613831633573  0.002763120735139264\n",
      " 5301.072890920429  0.905705653744281  0.002750769306217979\n",
      " 5301.165670352647 0.9577511179292562  0.002825891131374286\n",
      "Length = 1536 rows\n"
     ]
    }
   ],
   "source": [
    "with fits.open('demospec_18Sco.fits') as hdul:\n",
    "    hdul.info()\n",
    "    spec = Table.read('./demospec_18Sco.fits', format='fits')\n",
    "\n",
    "print(spec)"
   ]
  },
  {
   "cell_type": "code",
   "execution_count": 6,
   "metadata": {},
   "outputs": [
    {
     "ename": "NameError",
     "evalue": "name 'spec' is not defined",
     "output_type": "error",
     "traceback": [
      "\u001b[1;31m---------------------------------------------------------------------------\u001b[0m",
      "\u001b[1;31mNameError\u001b[0m                                 Traceback (most recent call last)",
      "Cell \u001b[1;32mIn[6], line 1\u001b[0m\n\u001b[1;32m----> 1\u001b[0m spec \u001b[38;5;241m=\u001b[39m \u001b[43mspec\u001b[49m[(spec[\u001b[38;5;124m'\u001b[39m\u001b[38;5;124mwave\u001b[39m\u001b[38;5;124m'\u001b[39m] \u001b[38;5;241m>\u001b[39m \u001b[38;5;241m5150.0\u001b[39m) \u001b[38;5;241m&\u001b[39m (spec[\u001b[38;5;124m'\u001b[39m\u001b[38;5;124mwave\u001b[39m\u001b[38;5;124m'\u001b[39m] \u001b[38;5;241m<\u001b[39m \u001b[38;5;241m5300.0\u001b[39m)]\n\u001b[0;32m      2\u001b[0m \u001b[38;5;28mprint\u001b[39m(spec)\n",
      "\u001b[1;31mNameError\u001b[0m: name 'spec' is not defined"
     ]
    }
   ],
   "source": [
    "spec = spec[(spec['wave'] > 5150.0) & (spec['wave'] < 5300.0)]\n",
    "print(spec)"
   ]
  },
  {
   "cell_type": "code",
   "execution_count": 12,
   "metadata": {},
   "outputs": [
    {
     "name": "stdout",
     "output_type": "stream",
     "text": [
      "<class 'astropy.table.table.Table'>\n",
      "['H3_ID', 'PS_ID', 'TMASS_ID', 'WISE_ID', 'UNWISE_ID', 'SDSS_ID', 'GALEX_ID', 'DES_ID', 'DECAPS_ID', 'UKIDSS_ID', 'APOPAYNE_ID', 'LAMOST_ID', 'GAIADR1_ID', 'GAIADR2_ID', 'GAIAEDR3_ID', 'TILE_ID', 'RA', 'DEC', 'RA_S', 'DEC_S', 'L', 'B', 'EBV', 'BHB', 'MGIANT', 'RAND', 'GUIDE', 'XFIT_RANK', 'PS_G', 'PS_R', 'PS_I', 'PS_Z', 'PS_Y', 'SDSS_U', 'SDSS_G', 'SDSS_R', 'SDSS_I', 'SDSS_Z', 'TMASS_J', 'TMASS_H', 'TMASS_K', 'WISE_W1', 'WISE_W2', 'WISE_W3', 'WISE_W4', 'UNWISE_W1', 'UNWISE_W2', 'GALEX_NUV', 'GALEX_FUV', 'DES_G', 'DES_R', 'DES_I', 'DES_Z', 'DES_Y', 'DECAPS_G', 'DECAPS_R', 'DECAPS_I', 'DECAPS_Z', 'DECAPS_Y', 'UKIDSS_J', 'UKIDSS_H', 'UKIDSS_K', 'GAIADR2_G', 'GAIADR2_BP', 'GAIADR2_RP', 'GAIAEDR3_G', 'GAIAEDR3_BP', 'GAIAEDR3_RP', 'PS_G_ERR', 'PS_R_ERR', 'PS_I_ERR', 'PS_Z_ERR', 'PS_Y_ERR', 'SDSS_U_ERR', 'SDSS_G_ERR', 'SDSS_R_ERR', 'SDSS_I_ERR', 'SDSS_Z_ERR', 'TMASS_J_ERR', 'TMASS_H_ERR', 'TMASS_K_ERR', 'WISE_W1_ERR', 'WISE_W2_ERR', 'WISE_W3_ERR', 'WISE_W4_ERR', 'UNWISE_W1_ERR', 'UNWISE_W2_ERR', 'GALEX_NUV_ERR', 'GALEX_FUV_ERR', 'DES_G_ERR', 'DES_R_ERR', 'DES_I_ERR', 'DES_Z_ERR', 'DES_Y_ERR', 'DECAPS_G_ERR', 'DECAPS_R_ERR', 'DECAPS_I_ERR', 'DECAPS_Z_ERR', 'DECAPS_Y_ERR', 'UKIDSS_J_ERR', 'UKIDSS_H_ERR', 'UKIDSS_K_ERR', 'GAIADR2_G_ERR', 'GAIADR2_BP_ERR', 'GAIADR2_RP_ERR', 'GAIAEDR3_G_ERR', 'GAIAEDR3_BP_ERR', 'GAIAEDR3_RP_ERR', 'APOPAYNE_TEFF', 'APOPAYNE_LOGG', 'APOPAYNE_VMIC', 'APOPAYNE_VMAC', 'APOPAYNE_FeH', 'APOPAYNE_CH', 'APOPAYNE_NH', 'APOPAYNE_OH', 'APOPAYNE_MgH', 'APOPAYNE_AlH', 'APOPAYNE_SiH', 'APOPAYNE_SH', 'APOPAYNE_KH', 'APOPAYNE_CaH', 'APOPAYNE_TiH', 'APOPAYNE_CrH', 'APOPAYNE_MnH', 'APOPAYNE_NiH', 'APOPAYNE_CuH', 'APOPAYNE_C12C13', 'LAMOST_TEFF', 'LAMOST_LOGG', 'LAMOST_FeH', 'LAMOST_RV', 'GAIADR2_RA', 'GAIADR2_DEC', 'GAIADR2_RA_ERROR', 'GAIADR2_DEC_ERROR', 'GAIADR2_PARALLAX', 'GAIADR2_PARALLAX_ERROR', 'GAIADR2_PARALLAX_OVER_ERROR', 'GAIADR2_PMRA', 'GAIADR2_PMDEC', 'GAIADR2_PMRA_ERROR', 'GAIADR2_PMDEC_ERROR', 'GAIADR2_PHOT_BP_RP_EXCESS_FACTOR', 'GAIADR2_VISIBILITY_PERIODS_USED', 'GAIADR2_ASTROMETRIC_EXCESS_NOISE', 'GAIADR2_ASTROMETRIC_EXCESS_NOISE_SIG', 'GAIADR2_ASTROMETRIC_SIGMA5D_MAX', 'GAIADR2_ASTROMETRIC_CHI2_AL', 'GAIADR2_ASTROMETRIC_N_GOOD_OBS_AL', 'GAIADR2_RUWE', 'GAIAEDR3_RA', 'GAIAEDR3_DEC', 'GAIAEDR3_RA_ERROR', 'GAIAEDR3_DEC_ERROR', 'GAIAEDR3_PARALLAX', 'GAIAEDR3_PARALLAX_ERROR', 'GAIAEDR3_PARALLAX_OVER_ERROR', 'GAIAEDR3_PMRA', 'GAIAEDR3_PMDEC', 'GAIAEDR3_PMRA_ERROR', 'GAIAEDR3_PMDEC_ERROR', 'GAIAEDR3_PSEUDOCOLOUR', 'GAIAEDR3_PSEUDOCOLOUR_ERROR', 'GAIAEDR3_NU_EFF_USED_IN_ASTROMETRY', 'GAIAEDR3_ASTROMETRIC_PARAMS_SOLVED', 'GAIAEDR3_PHOT_BP_RP_EXCESS_FACTOR', 'GAIAEDR3_VISIBILITY_PERIODS_USED', 'GAIAEDR3_RUWE', 'GAIAEDR3_IPD_GOF_HARMONIC_AMPLITUDE', 'GAIAEDR3_G_CORRECTED', 'GAIAEDR3_PARALLAX_CORRECTED', 'GAIAEDR3_PHOT_BP_RP_EXCESS_FACTOR_CORRECTED', 'GAIAEDR3_PARALLAX_PMRA_CORR', 'GAIAEDR3_PARALLAX_PMDEC_CORR', 'GAIAEDR3_PMRA_PMDEC_CORR', 'GAIAEDR3_RA_DEC_CORR', 'GAIAEDR3_RA_PARALLAX_CORR', 'GAIAEDR3_RA_PMRA_CORR', 'GAIAEDR3_RA_PMDEC_CORR', 'GAIAEDR3_DEC_PARALLAX_CORR', 'GAIAEDR3_DEC_PMRA_CORR', 'GAIAEDR3_DEC_PMDEC_CORR', 'HDBscan_MemProb', 'HDBscan_Cluster', 'HDBscan_Stability', 'MemBool']\n"
     ]
    }
   ],
   "source": [
    "spectrum = Table.read(hecto_filename, format='hdf5')\n",
    "print(type(spectrum))\n",
    "print(spectrum.colnames)\n",
    "\n",
    "# Columns wanted: wave, flux, fluxerr"
   ]
  },
  {
   "cell_type": "code",
   "execution_count": 51,
   "metadata": {},
   "outputs": [
    {
     "name": "stdout",
     "output_type": "stream",
     "text": [
      "UKIDSS_H\n",
      "--------\n",
      "     nan\n",
      "     nan\n",
      "     nan\n",
      "     nan\n",
      "     nan\n",
      "     nan\n",
      "     nan\n",
      "     nan\n",
      "     nan\n",
      "     nan\n",
      "     ...\n",
      "     nan\n",
      "     nan\n",
      "     nan\n",
      "     nan\n",
      "     nan\n",
      "     nan\n",
      "     nan\n",
      "     nan\n",
      "     nan\n",
      "     nan\n",
      "Length = 186 rows\n"
     ]
    }
   ],
   "source": [
    "print(spectrum['UKIDSS_H'])"
   ]
  },
  {
   "cell_type": "code",
   "execution_count": null,
   "metadata": {},
   "outputs": [],
   "source": []
  }
 ],
 "metadata": {
  "kernelspec": {
   "display_name": ".thesis",
   "language": "python",
   "name": "python3"
  },
  "language_info": {
   "codemirror_mode": {
    "name": "ipython",
    "version": 3
   },
   "file_extension": ".py",
   "mimetype": "text/x-python",
   "name": "python",
   "nbconvert_exporter": "python",
   "pygments_lexer": "ipython3",
   "version": "3.13.0"
  }
 },
 "nbformat": 4,
 "nbformat_minor": 2
}

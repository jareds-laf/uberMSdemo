{
 "cells": [
  {
   "cell_type": "code",
   "execution_count": 1,
   "id": "79104f24",
   "metadata": {},
   "outputs": [],
   "source": [
    "import numpy as np\n",
    "import pandas as pd\n",
    "import matplotlib\n",
    "import matplotlib.pyplot as plt\n",
    "from astropy.io import fits\n",
    "import os\n",
    "import corner"
   ]
  },
  {
   "cell_type": "code",
   "execution_count": 2,
   "id": "3af66390",
   "metadata": {},
   "outputs": [],
   "source": [
    "def plot_cornerbinary(file_folder, filename, tp=True):\n",
    "    file_folder = os.path.expanduser(file_folder)\n",
    "\n",
    "    datafile = os.path.join(file_folder, filename)\n",
    "\n",
    "    # print(datafile)\n",
    "\n",
    "    with fits.open(datafile) as hdu:\n",
    "        hdu.info()\n",
    "\n",
    "    data_tp_file, header_tp_file = fits.getdata(datafile, header=True)\n",
    "    # print(data_tp_file.dtype)\n",
    "    if tp:\n",
    "\n",
    "        #teff, logg\n",
    "        data_tp = np.vstack([#data_tp_file['Teff_a'], data_tp_file['Teff_b'],\n",
    "        #                      data_tp_file['log(g)_a'], data_tp_file['log(g)_b'],\n",
    "        #                      data_tp_file['[Fe/H]_a'], data_tp_file['[Fe/H]_b'],\n",
    "        #                      data_tp_file['mass_ratio'], data_tp_file['vrad_sys'],\n",
    "        #                      data_tp_file['vrad_a'], data_tp_file['vrad_b'],\n",
    "        #                      data_tp_file['vstar_a'], data_tp_file['vstar_b']\n",
    "                                data_tp_file['mass_ratio'],\n",
    "                                # data_tp_file['vrad_sys']\n",
    "                             ]).T\n",
    "    \n",
    "                            #  data_tp_file['[a/Fe]_p'], data_tp_file['[a/Fe]_s'],\n",
    "                            #  data_tp_file['vstar_p'], data_tp_file['vstar_s'],\n",
    "                            #  data_tp_file['vmic_p'], data_tp_file['vmic_s']]).T\n",
    "                            #  data_tp_file['lsf_0'], data_tp_file['pc0_0'],\n",
    "                            #  data_tp_file['pc1_0'], data_tp_file['pc2_0'],\n",
    "                            #  data_tp_file['pc3_0'],\n",
    "                            #  data_tp_file['vrad_0'], data_tp_file['Teff'], data_tp_file['log(g)']]).T\n",
    "        figure = corner.corner(\n",
    "                            data_tp,\n",
    "                            labels = [\n",
    "                                    # r\"$T_{eff, a}$\",\n",
    "                                    # r\"$T_{eff, b}$\",\n",
    "                                    # r'$\\log{(g)}_a$',\n",
    "                                    # r'$\\log{(g)}_b$',\n",
    "                                    # r\"$[Fe/H]_a$\",\n",
    "                                    # r\"$[Fe/H]_b$\",\n",
    "                                    r\"$q$\"\n",
    "                                    # r\"$v_{r, sys}$\",\n",
    "                                    # r\"$v_{rad, a}$\",\n",
    "                                    # r\"$v_{rad, b}$\",\n",
    "                                    # r\"$v_{star, a}$\",\n",
    "                                    # r\"$v_{star, b}$\",\n",
    "                                    # r\"$[a/Fe]_a$\",\n",
    "                                    # r\"$[a/Fe]_b$\",\n",
    "                                    # r\"$v_{star, a}$\",\n",
    "                                    # r\"$v_{star, b}$\",\n",
    "                                    # r\"$v_{mic, a}$\",\n",
    "                                    # r\"$v_{mic, b}$\"\n",
    "                                    ],\n",
    "                            quantiles=[0.16,0.5,0.84],\n",
    "                            show_titles=True,\n",
    "                            title_fmt=\".3f\",\n",
    "                            title_kwargs={\"fontsize\": 12},\n",
    "                            label_kwargs={\"fontsize\": 12},\n",
    "\n",
    "                        )\n",
    "    # plt.savefig(datafile.replace('.fits', '_corner.png'),\n",
    "    #             bbox_inches='tight',\n",
    "    #             dpi=300)\n",
    "\n",
    "    plt.show()\n",
    "    # plt.close(figure)"
   ]
  },
  {
   "cell_type": "code",
   "execution_count": 47,
   "id": "332dc218",
   "metadata": {},
   "outputs": [
    {
     "name": "stdout",
     "output_type": "stream",
     "text": [
      "Filename: C:\\Users\\Jared\\Desktop\\Laf Plaf\\Senior Fall\\PHYS 49X\\data\\samples_UTPbinary_2076392838230907392_0_V027b.fits\n",
      "No.    Name      Ver    Type      Cards   Dimensions   Format\n",
      "  0  PRIMARY       1 PrimaryHDU       4   ()      \n",
      "  1                1 BinTableHDU     62   30000R x 27C   [D, D, D, D, D, D, D, D, D, D, D, D, D, D, D, D, D, D, D, D, D, D, D, D, D, D, D]   \n"
     ]
    },
    {
     "name": "stderr",
     "output_type": "stream",
     "text": [
      "WARNING: VerifyWarning: It is strongly recommended that column names contain only upper and lower-case ASCII letters, digits, or underscores for maximum compatibility with other software (got '[Fe/H]_a'). [astropy.io.fits.column]\n",
      "WARNING: VerifyWarning: It is strongly recommended that column names contain only upper and lower-case ASCII letters, digits, or underscores for maximum compatibility with other software (got '[Fe/H]_b'). [astropy.io.fits.column]\n",
      "WARNING: VerifyWarning: It is strongly recommended that column names contain only upper and lower-case ASCII letters, digits, or underscores for maximum compatibility with other software (got '[a/Fe]_a'). [astropy.io.fits.column]\n",
      "WARNING: VerifyWarning: It is strongly recommended that column names contain only upper and lower-case ASCII letters, digits, or underscores for maximum compatibility with other software (got '[a/Fe]_b'). [astropy.io.fits.column]\n"
     ]
    },
    {
     "data": {
      "image/png": "[encoded data removed]",
      "text/plain": [
       "<Figure size 340x340 with 1 Axes>"
      ]
     },
     "metadata": {},
     "output_type": "display_data"
    }
   ],
   "source": [
    "plot_cornerbinary(file_folder=r'C:\\Users\\Jared\\Desktop\\Laf Plaf\\Senior Fall\\PHYS 49X\\data', filename='samples_UTPbinary_2076392838230907392_0_V027b.fits')"
   ]
  },
  {
   "cell_type": "code",
   "execution_count": null,
   "id": "5c320ecc",
   "metadata": {},
   "outputs": [],
   "source": []
  }
 ],
 "metadata": {
  "kernelspec": {
   "display_name": ".thesis",
   "language": "python",
   "name": "python3"
  },
  "language_info": {
   "codemirror_mode": {
    "name": "ipython",
    "version": 3
   },
   "file_extension": ".py",
   "mimetype": "text/x-python",
   "name": "python",
   "nbconvert_exporter": "python",
   "pygments_lexer": "ipython3",
   "version": "3.13.0"
  }
 },
 "nbformat": 4,
 "nbformat_minor": 5
}
